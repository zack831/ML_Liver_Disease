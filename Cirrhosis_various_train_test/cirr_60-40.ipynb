{
 "cells": [
  {
   "cell_type": "code",
   "execution_count": 1,
   "id": "4f8f81bb-18f8-468f-a34b-916fc6e12201",
   "metadata": {},
   "outputs": [],
   "source": [
    "#importing necessary libraries\n",
    "\n",
    "import pandas as pd\n",
    "import numpy as np\n",
    "import matplotlib.pyplot as plt\n",
    "import seaborn as sns\n",
    "from sklearn.model_selection import train_test_split\n",
    "from sklearn.model_selection import cross_val_score\n",
    "from sklearn import metrics\n",
    "from sklearn.metrics import confusion_matrix\n",
    "from sklearn.tree import DecisionTreeClassifier\n",
    "from sklearn.neighbors import KNeighborsClassifier\n",
    "from sklearn.ensemble import RandomForestClassifier\n",
    "from sklearn.svm import SVC"
   ]
  },
  {
   "cell_type": "code",
   "execution_count": 2,
   "id": "9e238c79-ffa8-4eee-8d68-1af944102c0f",
   "metadata": {},
   "outputs": [],
   "source": [
    "#Reading the csv files\n",
    "df = pd.read_csv('/home/zack83/Dropbox/Tripura_University/Project_Final/Databases/Original_Databaes/cirrhosis.csv')"
   ]
  },
  {
   "cell_type": "code",
   "execution_count": 3,
   "id": "41d9d388-3fac-4391-9a8e-2800c2ce999c",
   "metadata": {},
   "outputs": [
    {
     "data": {
      "text/html": [
       "<div>\n",
       "<style scoped>\n",
       "    .dataframe tbody tr th:only-of-type {\n",
       "        vertical-align: middle;\n",
       "    }\n",
       "\n",
       "    .dataframe tbody tr th {\n",
       "        vertical-align: top;\n",
       "    }\n",
       "\n",
       "    .dataframe thead th {\n",
       "        text-align: right;\n",
       "    }\n",
       "</style>\n",
       "<table border=\"1\" class=\"dataframe\">\n",
       "  <thead>\n",
       "    <tr style=\"text-align: right;\">\n",
       "      <th></th>\n",
       "      <th>ID</th>\n",
       "      <th>N_Days</th>\n",
       "      <th>Age</th>\n",
       "      <th>Bilirubin</th>\n",
       "      <th>Cholesterol</th>\n",
       "      <th>Albumin</th>\n",
       "      <th>Copper</th>\n",
       "      <th>Alk_Phos</th>\n",
       "      <th>SGOT</th>\n",
       "      <th>Tryglicerides</th>\n",
       "      <th>Platelets</th>\n",
       "      <th>Prothrombin</th>\n",
       "      <th>Stage</th>\n",
       "    </tr>\n",
       "  </thead>\n",
       "  <tbody>\n",
       "    <tr>\n",
       "      <th>count</th>\n",
       "      <td>418.000000</td>\n",
       "      <td>418.000000</td>\n",
       "      <td>418.000000</td>\n",
       "      <td>418.000000</td>\n",
       "      <td>284.000000</td>\n",
       "      <td>418.000000</td>\n",
       "      <td>310.000000</td>\n",
       "      <td>312.000000</td>\n",
       "      <td>312.000000</td>\n",
       "      <td>282.000000</td>\n",
       "      <td>407.000000</td>\n",
       "      <td>416.000000</td>\n",
       "      <td>412.000000</td>\n",
       "    </tr>\n",
       "    <tr>\n",
       "      <th>mean</th>\n",
       "      <td>209.500000</td>\n",
       "      <td>1917.782297</td>\n",
       "      <td>18533.351675</td>\n",
       "      <td>3.220813</td>\n",
       "      <td>369.510563</td>\n",
       "      <td>3.497440</td>\n",
       "      <td>97.648387</td>\n",
       "      <td>1982.655769</td>\n",
       "      <td>122.556346</td>\n",
       "      <td>124.702128</td>\n",
       "      <td>257.024570</td>\n",
       "      <td>10.731731</td>\n",
       "      <td>3.024272</td>\n",
       "    </tr>\n",
       "    <tr>\n",
       "      <th>std</th>\n",
       "      <td>120.810458</td>\n",
       "      <td>1104.672992</td>\n",
       "      <td>3815.845055</td>\n",
       "      <td>4.407506</td>\n",
       "      <td>231.944545</td>\n",
       "      <td>0.424972</td>\n",
       "      <td>85.613920</td>\n",
       "      <td>2140.388824</td>\n",
       "      <td>56.699525</td>\n",
       "      <td>65.148639</td>\n",
       "      <td>98.325585</td>\n",
       "      <td>1.022000</td>\n",
       "      <td>0.882042</td>\n",
       "    </tr>\n",
       "    <tr>\n",
       "      <th>min</th>\n",
       "      <td>1.000000</td>\n",
       "      <td>41.000000</td>\n",
       "      <td>9598.000000</td>\n",
       "      <td>0.300000</td>\n",
       "      <td>120.000000</td>\n",
       "      <td>1.960000</td>\n",
       "      <td>4.000000</td>\n",
       "      <td>289.000000</td>\n",
       "      <td>26.350000</td>\n",
       "      <td>33.000000</td>\n",
       "      <td>62.000000</td>\n",
       "      <td>9.000000</td>\n",
       "      <td>1.000000</td>\n",
       "    </tr>\n",
       "    <tr>\n",
       "      <th>25%</th>\n",
       "      <td>105.250000</td>\n",
       "      <td>1092.750000</td>\n",
       "      <td>15644.500000</td>\n",
       "      <td>0.800000</td>\n",
       "      <td>249.500000</td>\n",
       "      <td>3.242500</td>\n",
       "      <td>41.250000</td>\n",
       "      <td>871.500000</td>\n",
       "      <td>80.600000</td>\n",
       "      <td>84.250000</td>\n",
       "      <td>188.500000</td>\n",
       "      <td>10.000000</td>\n",
       "      <td>2.000000</td>\n",
       "    </tr>\n",
       "    <tr>\n",
       "      <th>50%</th>\n",
       "      <td>209.500000</td>\n",
       "      <td>1730.000000</td>\n",
       "      <td>18628.000000</td>\n",
       "      <td>1.400000</td>\n",
       "      <td>309.500000</td>\n",
       "      <td>3.530000</td>\n",
       "      <td>73.000000</td>\n",
       "      <td>1259.000000</td>\n",
       "      <td>114.700000</td>\n",
       "      <td>108.000000</td>\n",
       "      <td>251.000000</td>\n",
       "      <td>10.600000</td>\n",
       "      <td>3.000000</td>\n",
       "    </tr>\n",
       "    <tr>\n",
       "      <th>75%</th>\n",
       "      <td>313.750000</td>\n",
       "      <td>2613.500000</td>\n",
       "      <td>21272.500000</td>\n",
       "      <td>3.400000</td>\n",
       "      <td>400.000000</td>\n",
       "      <td>3.770000</td>\n",
       "      <td>123.000000</td>\n",
       "      <td>1980.000000</td>\n",
       "      <td>151.900000</td>\n",
       "      <td>151.000000</td>\n",
       "      <td>318.000000</td>\n",
       "      <td>11.100000</td>\n",
       "      <td>4.000000</td>\n",
       "    </tr>\n",
       "    <tr>\n",
       "      <th>max</th>\n",
       "      <td>418.000000</td>\n",
       "      <td>4795.000000</td>\n",
       "      <td>28650.000000</td>\n",
       "      <td>28.000000</td>\n",
       "      <td>1775.000000</td>\n",
       "      <td>4.640000</td>\n",
       "      <td>588.000000</td>\n",
       "      <td>13862.400000</td>\n",
       "      <td>457.250000</td>\n",
       "      <td>598.000000</td>\n",
       "      <td>721.000000</td>\n",
       "      <td>18.000000</td>\n",
       "      <td>4.000000</td>\n",
       "    </tr>\n",
       "  </tbody>\n",
       "</table>\n",
       "</div>"
      ],
      "text/plain": [
       "               ID       N_Days           Age   Bilirubin  Cholesterol  \\\n",
       "count  418.000000   418.000000    418.000000  418.000000   284.000000   \n",
       "mean   209.500000  1917.782297  18533.351675    3.220813   369.510563   \n",
       "std    120.810458  1104.672992   3815.845055    4.407506   231.944545   \n",
       "min      1.000000    41.000000   9598.000000    0.300000   120.000000   \n",
       "25%    105.250000  1092.750000  15644.500000    0.800000   249.500000   \n",
       "50%    209.500000  1730.000000  18628.000000    1.400000   309.500000   \n",
       "75%    313.750000  2613.500000  21272.500000    3.400000   400.000000   \n",
       "max    418.000000  4795.000000  28650.000000   28.000000  1775.000000   \n",
       "\n",
       "          Albumin      Copper      Alk_Phos        SGOT  Tryglicerides  \\\n",
       "count  418.000000  310.000000    312.000000  312.000000     282.000000   \n",
       "mean     3.497440   97.648387   1982.655769  122.556346     124.702128   \n",
       "std      0.424972   85.613920   2140.388824   56.699525      65.148639   \n",
       "min      1.960000    4.000000    289.000000   26.350000      33.000000   \n",
       "25%      3.242500   41.250000    871.500000   80.600000      84.250000   \n",
       "50%      3.530000   73.000000   1259.000000  114.700000     108.000000   \n",
       "75%      3.770000  123.000000   1980.000000  151.900000     151.000000   \n",
       "max      4.640000  588.000000  13862.400000  457.250000     598.000000   \n",
       "\n",
       "        Platelets  Prothrombin       Stage  \n",
       "count  407.000000   416.000000  412.000000  \n",
       "mean   257.024570    10.731731    3.024272  \n",
       "std     98.325585     1.022000    0.882042  \n",
       "min     62.000000     9.000000    1.000000  \n",
       "25%    188.500000    10.000000    2.000000  \n",
       "50%    251.000000    10.600000    3.000000  \n",
       "75%    318.000000    11.100000    4.000000  \n",
       "max    721.000000    18.000000    4.000000  "
      ]
     },
     "execution_count": 3,
     "metadata": {},
     "output_type": "execute_result"
    }
   ],
   "source": [
    "df.describe()"
   ]
  },
  {
   "cell_type": "code",
   "execution_count": 4,
   "id": "b4c15a40-aa9d-4794-b01f-52a0206ed1b5",
   "metadata": {},
   "outputs": [
    {
     "data": {
      "text/html": [
       "<div>\n",
       "<style scoped>\n",
       "    .dataframe tbody tr th:only-of-type {\n",
       "        vertical-align: middle;\n",
       "    }\n",
       "\n",
       "    .dataframe tbody tr th {\n",
       "        vertical-align: top;\n",
       "    }\n",
       "\n",
       "    .dataframe thead th {\n",
       "        text-align: right;\n",
       "    }\n",
       "</style>\n",
       "<table border=\"1\" class=\"dataframe\">\n",
       "  <thead>\n",
       "    <tr style=\"text-align: right;\">\n",
       "      <th></th>\n",
       "      <th>ID</th>\n",
       "      <th>N_Days</th>\n",
       "      <th>Status</th>\n",
       "      <th>Drug</th>\n",
       "      <th>Age</th>\n",
       "      <th>Sex</th>\n",
       "      <th>Ascites</th>\n",
       "      <th>Hepatomegaly</th>\n",
       "      <th>Spiders</th>\n",
       "      <th>Edema</th>\n",
       "      <th>Bilirubin</th>\n",
       "      <th>Cholesterol</th>\n",
       "      <th>Albumin</th>\n",
       "      <th>Copper</th>\n",
       "      <th>Alk_Phos</th>\n",
       "      <th>SGOT</th>\n",
       "      <th>Tryglicerides</th>\n",
       "      <th>Platelets</th>\n",
       "      <th>Prothrombin</th>\n",
       "      <th>Stage</th>\n",
       "    </tr>\n",
       "  </thead>\n",
       "  <tbody>\n",
       "    <tr>\n",
       "      <th>0</th>\n",
       "      <td>1</td>\n",
       "      <td>400</td>\n",
       "      <td>D</td>\n",
       "      <td>D-penicillamine</td>\n",
       "      <td>21464</td>\n",
       "      <td>F</td>\n",
       "      <td>Y</td>\n",
       "      <td>Y</td>\n",
       "      <td>Y</td>\n",
       "      <td>Y</td>\n",
       "      <td>14.5</td>\n",
       "      <td>261.0</td>\n",
       "      <td>2.60</td>\n",
       "      <td>156.0</td>\n",
       "      <td>1718.0</td>\n",
       "      <td>137.95</td>\n",
       "      <td>172.0</td>\n",
       "      <td>190.0</td>\n",
       "      <td>12.2</td>\n",
       "      <td>4.0</td>\n",
       "    </tr>\n",
       "    <tr>\n",
       "      <th>1</th>\n",
       "      <td>2</td>\n",
       "      <td>4500</td>\n",
       "      <td>C</td>\n",
       "      <td>D-penicillamine</td>\n",
       "      <td>20617</td>\n",
       "      <td>F</td>\n",
       "      <td>N</td>\n",
       "      <td>Y</td>\n",
       "      <td>Y</td>\n",
       "      <td>N</td>\n",
       "      <td>1.1</td>\n",
       "      <td>302.0</td>\n",
       "      <td>4.14</td>\n",
       "      <td>54.0</td>\n",
       "      <td>7394.8</td>\n",
       "      <td>113.52</td>\n",
       "      <td>88.0</td>\n",
       "      <td>221.0</td>\n",
       "      <td>10.6</td>\n",
       "      <td>3.0</td>\n",
       "    </tr>\n",
       "    <tr>\n",
       "      <th>2</th>\n",
       "      <td>3</td>\n",
       "      <td>1012</td>\n",
       "      <td>D</td>\n",
       "      <td>D-penicillamine</td>\n",
       "      <td>25594</td>\n",
       "      <td>M</td>\n",
       "      <td>N</td>\n",
       "      <td>N</td>\n",
       "      <td>N</td>\n",
       "      <td>S</td>\n",
       "      <td>1.4</td>\n",
       "      <td>176.0</td>\n",
       "      <td>3.48</td>\n",
       "      <td>210.0</td>\n",
       "      <td>516.0</td>\n",
       "      <td>96.10</td>\n",
       "      <td>55.0</td>\n",
       "      <td>151.0</td>\n",
       "      <td>12.0</td>\n",
       "      <td>4.0</td>\n",
       "    </tr>\n",
       "    <tr>\n",
       "      <th>3</th>\n",
       "      <td>4</td>\n",
       "      <td>1925</td>\n",
       "      <td>D</td>\n",
       "      <td>D-penicillamine</td>\n",
       "      <td>19994</td>\n",
       "      <td>F</td>\n",
       "      <td>N</td>\n",
       "      <td>Y</td>\n",
       "      <td>Y</td>\n",
       "      <td>S</td>\n",
       "      <td>1.8</td>\n",
       "      <td>244.0</td>\n",
       "      <td>2.54</td>\n",
       "      <td>64.0</td>\n",
       "      <td>6121.8</td>\n",
       "      <td>60.63</td>\n",
       "      <td>92.0</td>\n",
       "      <td>183.0</td>\n",
       "      <td>10.3</td>\n",
       "      <td>4.0</td>\n",
       "    </tr>\n",
       "    <tr>\n",
       "      <th>4</th>\n",
       "      <td>5</td>\n",
       "      <td>1504</td>\n",
       "      <td>CL</td>\n",
       "      <td>Placebo</td>\n",
       "      <td>13918</td>\n",
       "      <td>F</td>\n",
       "      <td>N</td>\n",
       "      <td>Y</td>\n",
       "      <td>Y</td>\n",
       "      <td>N</td>\n",
       "      <td>3.4</td>\n",
       "      <td>279.0</td>\n",
       "      <td>3.53</td>\n",
       "      <td>143.0</td>\n",
       "      <td>671.0</td>\n",
       "      <td>113.15</td>\n",
       "      <td>72.0</td>\n",
       "      <td>136.0</td>\n",
       "      <td>10.9</td>\n",
       "      <td>3.0</td>\n",
       "    </tr>\n",
       "  </tbody>\n",
       "</table>\n",
       "</div>"
      ],
      "text/plain": [
       "   ID  N_Days Status             Drug    Age Sex Ascites Hepatomegaly Spiders  \\\n",
       "0   1     400      D  D-penicillamine  21464   F       Y            Y       Y   \n",
       "1   2    4500      C  D-penicillamine  20617   F       N            Y       Y   \n",
       "2   3    1012      D  D-penicillamine  25594   M       N            N       N   \n",
       "3   4    1925      D  D-penicillamine  19994   F       N            Y       Y   \n",
       "4   5    1504     CL          Placebo  13918   F       N            Y       Y   \n",
       "\n",
       "  Edema  Bilirubin  Cholesterol  Albumin  Copper  Alk_Phos    SGOT  \\\n",
       "0     Y       14.5        261.0     2.60   156.0    1718.0  137.95   \n",
       "1     N        1.1        302.0     4.14    54.0    7394.8  113.52   \n",
       "2     S        1.4        176.0     3.48   210.0     516.0   96.10   \n",
       "3     S        1.8        244.0     2.54    64.0    6121.8   60.63   \n",
       "4     N        3.4        279.0     3.53   143.0     671.0  113.15   \n",
       "\n",
       "   Tryglicerides  Platelets  Prothrombin  Stage  \n",
       "0          172.0      190.0         12.2    4.0  \n",
       "1           88.0      221.0         10.6    3.0  \n",
       "2           55.0      151.0         12.0    4.0  \n",
       "3           92.0      183.0         10.3    4.0  \n",
       "4           72.0      136.0         10.9    3.0  "
      ]
     },
     "execution_count": 4,
     "metadata": {},
     "output_type": "execute_result"
    }
   ],
   "source": [
    "df.head()      #reading the first five values"
   ]
  },
  {
   "cell_type": "code",
   "execution_count": 5,
   "id": "03663df5-8b4b-4c86-8bc5-a4242c3f78d8",
   "metadata": {},
   "outputs": [],
   "source": [
    "## dropping the unnecessary values which cannot be used on later satges\n",
    "df = df.drop(['ID','N_Days','Drug','Tryglicerides','Edema',],axis = 1)"
   ]
  },
  {
   "cell_type": "code",
   "execution_count": 6,
   "id": "8be119ae-0a8e-4f3c-b64d-83e56d7ca494",
   "metadata": {},
   "outputs": [
    {
     "data": {
      "text/plain": [
       "Age            0\n",
       "Bilirubin      0\n",
       "Cholesterol    0\n",
       "Albumin        0\n",
       "Copper         0\n",
       "Alk_Phos       0\n",
       "SGOT           0\n",
       "Platelets      0\n",
       "Prothrombin    0\n",
       "Stage          0\n",
       "dtype: int64"
      ]
     },
     "execution_count": 6,
     "metadata": {},
     "output_type": "execute_result"
    }
   ],
   "source": [
    "##imputing median values for numerical type columns\n",
    "df.select_dtypes(include=(['int64', 'float64'])).isna().sum()\n",
    "df_num_col = df.select_dtypes(include=(['int64', 'float64'])).columns\n",
    "for c in df_num_col:\n",
    "    df[c].fillna(df[c].median(), inplace=True)\n",
    "\n",
    "df.select_dtypes(include=(['int64', 'float64'])).isna().sum()"
   ]
  },
  {
   "cell_type": "code",
   "execution_count": 7,
   "id": "4ef7358d-e8f8-493a-95c7-158be91b882f",
   "metadata": {},
   "outputs": [
    {
     "data": {
      "text/plain": [
       "Status          0\n",
       "Sex             0\n",
       "Ascites         0\n",
       "Hepatomegaly    0\n",
       "Spiders         0\n",
       "dtype: int64"
      ]
     },
     "execution_count": 7,
     "metadata": {},
     "output_type": "execute_result"
    }
   ],
   "source": [
    "##imputing mode values for categorial type columns\n",
    "df_cat_col = df.select_dtypes(include=('object')).columns\n",
    "for c in df_cat_col:\n",
    "    df[c].fillna(df[c].mode().values[0], inplace=True)\n",
    "    \n",
    "df.select_dtypes(include=('object')).isna().sum()"
   ]
  },
  {
   "cell_type": "code",
   "execution_count": 8,
   "id": "c695b60d-c132-4643-9f5c-8e3f713034f5",
   "metadata": {},
   "outputs": [
    {
     "data": {
      "text/html": [
       "<div>\n",
       "<style scoped>\n",
       "    .dataframe tbody tr th:only-of-type {\n",
       "        vertical-align: middle;\n",
       "    }\n",
       "\n",
       "    .dataframe tbody tr th {\n",
       "        vertical-align: top;\n",
       "    }\n",
       "\n",
       "    .dataframe thead th {\n",
       "        text-align: right;\n",
       "    }\n",
       "</style>\n",
       "<table border=\"1\" class=\"dataframe\">\n",
       "  <thead>\n",
       "    <tr style=\"text-align: right;\">\n",
       "      <th></th>\n",
       "      <th>Status</th>\n",
       "      <th>Age</th>\n",
       "      <th>Sex</th>\n",
       "      <th>Ascites</th>\n",
       "      <th>Hepatomegaly</th>\n",
       "      <th>Spiders</th>\n",
       "      <th>Bilirubin</th>\n",
       "      <th>Cholesterol</th>\n",
       "      <th>Albumin</th>\n",
       "      <th>Copper</th>\n",
       "      <th>Alk_Phos</th>\n",
       "      <th>SGOT</th>\n",
       "      <th>Platelets</th>\n",
       "      <th>Prothrombin</th>\n",
       "      <th>Stage</th>\n",
       "    </tr>\n",
       "  </thead>\n",
       "  <tbody>\n",
       "    <tr>\n",
       "      <th>0</th>\n",
       "      <td>D</td>\n",
       "      <td>21464</td>\n",
       "      <td>F</td>\n",
       "      <td>Y</td>\n",
       "      <td>Y</td>\n",
       "      <td>Y</td>\n",
       "      <td>14.5</td>\n",
       "      <td>261.0</td>\n",
       "      <td>2.60</td>\n",
       "      <td>156.0</td>\n",
       "      <td>1718.0</td>\n",
       "      <td>137.95</td>\n",
       "      <td>190.0</td>\n",
       "      <td>12.2</td>\n",
       "      <td>4.0</td>\n",
       "    </tr>\n",
       "    <tr>\n",
       "      <th>1</th>\n",
       "      <td>C</td>\n",
       "      <td>20617</td>\n",
       "      <td>F</td>\n",
       "      <td>N</td>\n",
       "      <td>Y</td>\n",
       "      <td>Y</td>\n",
       "      <td>1.1</td>\n",
       "      <td>302.0</td>\n",
       "      <td>4.14</td>\n",
       "      <td>54.0</td>\n",
       "      <td>7394.8</td>\n",
       "      <td>113.52</td>\n",
       "      <td>221.0</td>\n",
       "      <td>10.6</td>\n",
       "      <td>3.0</td>\n",
       "    </tr>\n",
       "    <tr>\n",
       "      <th>2</th>\n",
       "      <td>D</td>\n",
       "      <td>25594</td>\n",
       "      <td>M</td>\n",
       "      <td>N</td>\n",
       "      <td>N</td>\n",
       "      <td>N</td>\n",
       "      <td>1.4</td>\n",
       "      <td>176.0</td>\n",
       "      <td>3.48</td>\n",
       "      <td>210.0</td>\n",
       "      <td>516.0</td>\n",
       "      <td>96.10</td>\n",
       "      <td>151.0</td>\n",
       "      <td>12.0</td>\n",
       "      <td>4.0</td>\n",
       "    </tr>\n",
       "    <tr>\n",
       "      <th>3</th>\n",
       "      <td>D</td>\n",
       "      <td>19994</td>\n",
       "      <td>F</td>\n",
       "      <td>N</td>\n",
       "      <td>Y</td>\n",
       "      <td>Y</td>\n",
       "      <td>1.8</td>\n",
       "      <td>244.0</td>\n",
       "      <td>2.54</td>\n",
       "      <td>64.0</td>\n",
       "      <td>6121.8</td>\n",
       "      <td>60.63</td>\n",
       "      <td>183.0</td>\n",
       "      <td>10.3</td>\n",
       "      <td>4.0</td>\n",
       "    </tr>\n",
       "    <tr>\n",
       "      <th>4</th>\n",
       "      <td>CL</td>\n",
       "      <td>13918</td>\n",
       "      <td>F</td>\n",
       "      <td>N</td>\n",
       "      <td>Y</td>\n",
       "      <td>Y</td>\n",
       "      <td>3.4</td>\n",
       "      <td>279.0</td>\n",
       "      <td>3.53</td>\n",
       "      <td>143.0</td>\n",
       "      <td>671.0</td>\n",
       "      <td>113.15</td>\n",
       "      <td>136.0</td>\n",
       "      <td>10.9</td>\n",
       "      <td>3.0</td>\n",
       "    </tr>\n",
       "  </tbody>\n",
       "</table>\n",
       "</div>"
      ],
      "text/plain": [
       "  Status    Age Sex Ascites Hepatomegaly Spiders  Bilirubin  Cholesterol  \\\n",
       "0      D  21464   F       Y            Y       Y       14.5        261.0   \n",
       "1      C  20617   F       N            Y       Y        1.1        302.0   \n",
       "2      D  25594   M       N            N       N        1.4        176.0   \n",
       "3      D  19994   F       N            Y       Y        1.8        244.0   \n",
       "4     CL  13918   F       N            Y       Y        3.4        279.0   \n",
       "\n",
       "   Albumin  Copper  Alk_Phos    SGOT  Platelets  Prothrombin  Stage  \n",
       "0     2.60   156.0    1718.0  137.95      190.0         12.2    4.0  \n",
       "1     4.14    54.0    7394.8  113.52      221.0         10.6    3.0  \n",
       "2     3.48   210.0     516.0   96.10      151.0         12.0    4.0  \n",
       "3     2.54    64.0    6121.8   60.63      183.0         10.3    4.0  \n",
       "4     3.53   143.0     671.0  113.15      136.0         10.9    3.0  "
      ]
     },
     "execution_count": 8,
     "metadata": {},
     "output_type": "execute_result"
    }
   ],
   "source": [
    "df.head()"
   ]
  },
  {
   "cell_type": "code",
   "execution_count": 9,
   "id": "0a9c04e8-9515-4ddb-a6b0-09d6261efd2b",
   "metadata": {},
   "outputs": [],
   "source": [
    "df['Age'] = df ['Age'].floordiv(365)                #floor division of age with 365 cause the given data are in days"
   ]
  },
  {
   "cell_type": "code",
   "execution_count": 10,
   "id": "75fbe419-ed03-49d3-8f5a-779c75c65ac6",
   "metadata": {},
   "outputs": [],
   "source": [
    "#converting the categorial values into numerical so that can be merged with all the datasets\n",
    "df['Sex'] = df['Sex'].replace({'M':0, 'F':1})\n",
    "df['Status'] = df['Status'].replace({'C':0,'D':1,'CL':0})\n",
    "df['Ascites'] = df['Ascites'].replace({'N':0, 'Y':1})\n",
    "df['Hepatomegaly'] = df['Hepatomegaly'].replace({'N':0, 'Y':1})\n",
    "df['Spiders'] = df['Spiders'].replace({'N':0, 'Y':1})"
   ]
  },
  {
   "cell_type": "code",
   "execution_count": 11,
   "id": "c5ac3628-18b3-41b3-b2e7-50fcb12259c0",
   "metadata": {},
   "outputs": [
    {
     "data": {
      "text/html": [
       "<div>\n",
       "<style scoped>\n",
       "    .dataframe tbody tr th:only-of-type {\n",
       "        vertical-align: middle;\n",
       "    }\n",
       "\n",
       "    .dataframe tbody tr th {\n",
       "        vertical-align: top;\n",
       "    }\n",
       "\n",
       "    .dataframe thead th {\n",
       "        text-align: right;\n",
       "    }\n",
       "</style>\n",
       "<table border=\"1\" class=\"dataframe\">\n",
       "  <thead>\n",
       "    <tr style=\"text-align: right;\">\n",
       "      <th></th>\n",
       "      <th>Status</th>\n",
       "      <th>Age</th>\n",
       "      <th>Sex</th>\n",
       "      <th>Ascites</th>\n",
       "      <th>Hepatomegaly</th>\n",
       "      <th>Spiders</th>\n",
       "      <th>Bilirubin</th>\n",
       "      <th>Cholesterol</th>\n",
       "      <th>Albumin</th>\n",
       "      <th>Copper</th>\n",
       "      <th>Alk_Phos</th>\n",
       "      <th>SGOT</th>\n",
       "      <th>Platelets</th>\n",
       "      <th>Prothrombin</th>\n",
       "      <th>Stage</th>\n",
       "    </tr>\n",
       "  </thead>\n",
       "  <tbody>\n",
       "    <tr>\n",
       "      <th>0</th>\n",
       "      <td>1</td>\n",
       "      <td>58</td>\n",
       "      <td>1</td>\n",
       "      <td>1</td>\n",
       "      <td>1</td>\n",
       "      <td>1</td>\n",
       "      <td>14.5</td>\n",
       "      <td>261.0</td>\n",
       "      <td>2.60</td>\n",
       "      <td>156.0</td>\n",
       "      <td>1718.0</td>\n",
       "      <td>137.95</td>\n",
       "      <td>190.0</td>\n",
       "      <td>12.2</td>\n",
       "      <td>4.0</td>\n",
       "    </tr>\n",
       "    <tr>\n",
       "      <th>1</th>\n",
       "      <td>0</td>\n",
       "      <td>56</td>\n",
       "      <td>1</td>\n",
       "      <td>0</td>\n",
       "      <td>1</td>\n",
       "      <td>1</td>\n",
       "      <td>1.1</td>\n",
       "      <td>302.0</td>\n",
       "      <td>4.14</td>\n",
       "      <td>54.0</td>\n",
       "      <td>7394.8</td>\n",
       "      <td>113.52</td>\n",
       "      <td>221.0</td>\n",
       "      <td>10.6</td>\n",
       "      <td>3.0</td>\n",
       "    </tr>\n",
       "    <tr>\n",
       "      <th>2</th>\n",
       "      <td>1</td>\n",
       "      <td>70</td>\n",
       "      <td>0</td>\n",
       "      <td>0</td>\n",
       "      <td>0</td>\n",
       "      <td>0</td>\n",
       "      <td>1.4</td>\n",
       "      <td>176.0</td>\n",
       "      <td>3.48</td>\n",
       "      <td>210.0</td>\n",
       "      <td>516.0</td>\n",
       "      <td>96.10</td>\n",
       "      <td>151.0</td>\n",
       "      <td>12.0</td>\n",
       "      <td>4.0</td>\n",
       "    </tr>\n",
       "    <tr>\n",
       "      <th>3</th>\n",
       "      <td>1</td>\n",
       "      <td>54</td>\n",
       "      <td>1</td>\n",
       "      <td>0</td>\n",
       "      <td>1</td>\n",
       "      <td>1</td>\n",
       "      <td>1.8</td>\n",
       "      <td>244.0</td>\n",
       "      <td>2.54</td>\n",
       "      <td>64.0</td>\n",
       "      <td>6121.8</td>\n",
       "      <td>60.63</td>\n",
       "      <td>183.0</td>\n",
       "      <td>10.3</td>\n",
       "      <td>4.0</td>\n",
       "    </tr>\n",
       "    <tr>\n",
       "      <th>4</th>\n",
       "      <td>0</td>\n",
       "      <td>38</td>\n",
       "      <td>1</td>\n",
       "      <td>0</td>\n",
       "      <td>1</td>\n",
       "      <td>1</td>\n",
       "      <td>3.4</td>\n",
       "      <td>279.0</td>\n",
       "      <td>3.53</td>\n",
       "      <td>143.0</td>\n",
       "      <td>671.0</td>\n",
       "      <td>113.15</td>\n",
       "      <td>136.0</td>\n",
       "      <td>10.9</td>\n",
       "      <td>3.0</td>\n",
       "    </tr>\n",
       "  </tbody>\n",
       "</table>\n",
       "</div>"
      ],
      "text/plain": [
       "   Status  Age  Sex  Ascites  Hepatomegaly  Spiders  Bilirubin  Cholesterol  \\\n",
       "0       1   58    1        1             1        1       14.5        261.0   \n",
       "1       0   56    1        0             1        1        1.1        302.0   \n",
       "2       1   70    0        0             0        0        1.4        176.0   \n",
       "3       1   54    1        0             1        1        1.8        244.0   \n",
       "4       0   38    1        0             1        1        3.4        279.0   \n",
       "\n",
       "   Albumin  Copper  Alk_Phos    SGOT  Platelets  Prothrombin  Stage  \n",
       "0     2.60   156.0    1718.0  137.95      190.0         12.2    4.0  \n",
       "1     4.14    54.0    7394.8  113.52      221.0         10.6    3.0  \n",
       "2     3.48   210.0     516.0   96.10      151.0         12.0    4.0  \n",
       "3     2.54    64.0    6121.8   60.63      183.0         10.3    4.0  \n",
       "4     3.53   143.0     671.0  113.15      136.0         10.9    3.0  "
      ]
     },
     "execution_count": 11,
     "metadata": {},
     "output_type": "execute_result"
    }
   ],
   "source": [
    "df.head()"
   ]
  },
  {
   "cell_type": "code",
   "execution_count": 12,
   "id": "4d6343eb-4f99-4b69-aad2-693b73939278",
   "metadata": {},
   "outputs": [],
   "source": [
    "# df['Stage'] = np.where(df['Stage'] == 4,1,0)"
   ]
  },
  {
   "cell_type": "code",
   "execution_count": 13,
   "id": "972869eb-f778-4b7d-863a-d01ed2a6b187",
   "metadata": {},
   "outputs": [],
   "source": [
    "# df.to_csv(\"/home/zack83/Dropbox/Tripura_University/Project_Final/Databases/Cirr_Test000.csv\",index = False)"
   ]
  },
  {
   "cell_type": "code",
   "execution_count": 14,
   "id": "867ddee2-339b-404b-922e-2ff02d23893a",
   "metadata": {},
   "outputs": [
    {
     "data": {
      "text/plain": [
       "Stage\n",
       "3.0    161\n",
       "4.0    144\n",
       "2.0     92\n",
       "1.0     21\n",
       "Name: count, dtype: int64"
      ]
     },
     "execution_count": 14,
     "metadata": {},
     "output_type": "execute_result"
    }
   ],
   "source": [
    "df[\"Stage\"].value_counts()"
   ]
  },
  {
   "cell_type": "code",
   "execution_count": 15,
   "id": "a2bf3fc9-fc79-4b79-8712-32cc2e350784",
   "metadata": {},
   "outputs": [],
   "source": [
    "#Setting of Target values\n",
    "X=df.drop(['Status','Stage'],axis = 1)\n",
    "y=df['Status']"
   ]
  },
  {
   "cell_type": "code",
   "execution_count": 16,
   "id": "e2d63e42-b1b5-4b4c-94c4-8c8fde594ed2",
   "metadata": {},
   "outputs": [
    {
     "name": "stdout",
     "output_type": "stream",
     "text": [
      "Train Shape: (250, 13)\n",
      "Test Shape: (168, 13)\n"
     ]
    }
   ],
   "source": [
    "#Splitting of data for train and test\n",
    "X_train, X_test, y_train, y_test = train_test_split(X, y,test_size=0.40, random_state = 0)\n",
    "\n",
    "print(\"Train Shape: {}\".format(X_train.shape))\n",
    "print(\"Test Shape: {}\".format(X_test.shape))"
   ]
  },
  {
   "cell_type": "code",
   "execution_count": 17,
   "id": "1fcc5693-25fd-4f49-8811-872266ad3c4c",
   "metadata": {},
   "outputs": [
    {
     "name": "stdout",
     "output_type": "stream",
     "text": [
      "Score of the model is -  0.7202380952380952\n",
      "Report card of this model - \n",
      "              precision    recall  f1-score   support\n",
      "\n",
      "           0      0.764     0.800     0.781       105\n",
      "           1      0.638     0.587     0.612        63\n",
      "\n",
      "    accuracy                          0.720       168\n",
      "   macro avg      0.701     0.694     0.696       168\n",
      "weighted avg      0.716     0.720     0.718       168\n",
      "\n",
      "Accuracy score -  0.7202380952380952\n"
     ]
    }
   ],
   "source": [
    "#Decision Tree Classifier\n",
    "dtree = DecisionTreeClassifier()\n",
    "dtree.fit(X_train,y_train)\n",
    "y_pred_dtree = dtree.predict(X_test)\n",
    "score = dtree.score(X_test, y_test)\n",
    "print(\"Score of the model is - \",score)\n",
    "print(\"Report card of this model - \")\n",
    "print(metrics.classification_report(y_test, y_pred_dtree, digits=3))\n",
    "print(\"Accuracy score - \", metrics.accuracy_score(y_test,y_pred_dtree))"
   ]
  },
  {
   "cell_type": "code",
   "execution_count": 18,
   "id": "a88925b5-b6d9-42c6-8ba5-33ba6f62a829",
   "metadata": {},
   "outputs": [
    {
     "data": {
      "text/plain": [
       "Text(20.72222222222222, 0.5, 'Truth')"
      ]
     },
     "execution_count": 18,
     "metadata": {},
     "output_type": "execute_result"
    },
    {
     "data": {
      "image/png": "[encoded data removed]",
      "text/plain": [
       "<Figure size 400x400 with 2 Axes>"
      ]
     },
     "metadata": {},
     "output_type": "display_data"
    }
   ],
   "source": [
    "#Confusion Matrix\n",
    "y_predicted = dtree.predict(X_test)\n",
    "cm = confusion_matrix(y_test,y_predicted)\n",
    "\n",
    "plt.figure(figsize = (4,4))\n",
    "sns.heatmap(cm,annot = True)\n",
    "plt.xlabel(\"predicted\")\n",
    "plt.ylabel(\"Truth\")"
   ]
  },
  {
   "cell_type": "code",
   "execution_count": 19,
   "id": "a02958f6-1877-43e0-b90f-2ca5d80480c4",
   "metadata": {},
   "outputs": [
    {
     "name": "stdout",
     "output_type": "stream",
     "text": [
      "Score of the model is -  0.7321428571428571\n",
      "Report card of this model - \n",
      "              precision    recall  f1-score   support\n",
      "\n",
      "           0      0.778     0.800     0.789       105\n",
      "           1      0.650     0.619     0.634        63\n",
      "\n",
      "    accuracy                          0.732       168\n",
      "   macro avg      0.714     0.710     0.711       168\n",
      "weighted avg      0.730     0.732     0.731       168\n",
      "\n",
      "Accuracy score -  0.7321428571428571\n"
     ]
    }
   ],
   "source": [
    "dtree = DecisionTreeClassifier(max_depth = None , random_state = 1 , max_features = None, min_samples_leaf =20)\n",
    "dtree.fit(X_train,y_train)\n",
    "y_pred_dtree = dtree.predict(X_test)\n",
    "score = dtree.score(X_test, y_test)\n",
    "print(\"Score of the model is - \",score)\n",
    "print(\"Report card of this model - \")\n",
    "print(metrics.classification_report(y_test, y_pred_dtree, digits=3))\n",
    "print(\"Accuracy score - \", metrics.accuracy_score(y_test,y_pred_dtree))"
   ]
  },
  {
   "cell_type": "code",
   "execution_count": 20,
   "id": "beae5fe1-cafb-4b82-a352-4937b0d8c4ec",
   "metadata": {},
   "outputs": [
    {
     "data": {
      "text/plain": [
       "Text(20.72222222222222, 0.5, 'Truth')"
      ]
     },
     "execution_count": 20,
     "metadata": {},
     "output_type": "execute_result"
    },
    {
     "data": {
      "image/png": "[encoded data removed]",
      "text/plain": [
       "<Figure size 400x400 with 2 Axes>"
      ]
     },
     "metadata": {},
     "output_type": "display_data"
    }
   ],
   "source": [
    "#Confusion Matrix\n",
    "y_predicted = dtree.predict(X_test)\n",
    "cm = confusion_matrix(y_test,y_predicted)\n",
    "\n",
    "plt.figure(figsize = (4,4))\n",
    "sns.heatmap(cm,annot = True)\n",
    "plt.xlabel(\"predicted\")\n",
    "plt.ylabel(\"Truth\")"
   ]
  },
  {
   "cell_type": "code",
   "execution_count": 21,
   "id": "a4450c32-f8be-4cc6-88a8-1aa3944a9965",
   "metadata": {},
   "outputs": [
    {
     "data": {
      "image/png": "[encoded data removed]",
      "text/plain": [
       "<Figure size 640x480 with 1 Axes>"
      ]
     },
     "metadata": {},
     "output_type": "display_data"
    }
   ],
   "source": [
    "hist = []\n",
    "for i in range(1,20):\n",
    "    clf = KNeighborsClassifier(n_neighbors=i)\n",
    "    cross_val = cross_val_score(clf, X, y, cv=5)\n",
    "    hist.append(np.mean(cross_val))\n",
    "plt.plot(hist)\n",
    "plt.title('Cross Validations score for KNeighborsClassifier')\n",
    "plt.xlabel('n_neighbors')\n",
    "plt.ylabel('Accuracy')\n",
    "plt.grid()\n",
    "plt.show()"
   ]
  },
  {
   "cell_type": "code",
   "execution_count": 22,
   "id": "e936617e-698b-4ab4-935a-9a43c07dd07e",
   "metadata": {},
   "outputs": [
    {
     "name": "stdout",
     "output_type": "stream",
     "text": [
      "Score of the model is -  0.7261904761904762\n",
      "Report card of this model - \n",
      "              precision    recall  f1-score   support\n",
      "\n",
      "           0      0.744     0.857     0.796       105\n",
      "           1      0.681     0.508     0.582        63\n",
      "\n",
      "    accuracy                          0.726       168\n",
      "   macro avg      0.712     0.683     0.689       168\n",
      "weighted avg      0.720     0.726     0.716       168\n",
      "\n",
      "Accuracy score -  0.7261904761904762\n"
     ]
    }
   ],
   "source": [
    "from sklearn.neighbors import KNeighborsClassifier\n",
    "knn = KNeighborsClassifier(n_neighbors = 9)\n",
    "knn.fit(X_train,y_train)\n",
    "y_pred_knn = knn.predict(X_test)\n",
    "score = knn.score(X_test, y_test)\n",
    "print(\"Score of the model is - \",score)\n",
    "print(\"Report card of this model - \")\n",
    "print(metrics.classification_report(y_test, y_pred_knn, digits=3))\n",
    "print(\"Accuracy score - \", metrics.accuracy_score(y_test,y_pred_knn))"
   ]
  },
  {
   "cell_type": "code",
   "execution_count": 23,
   "id": "44ed0ce4-02ad-41ab-acde-9bf7f4f2151c",
   "metadata": {},
   "outputs": [
    {
     "data": {
      "text/plain": [
       "Text(20.72222222222222, 0.5, 'Truth')"
      ]
     },
     "execution_count": 23,
     "metadata": {},
     "output_type": "execute_result"
    },
    {
     "data": {
      "image/png": "[encoded data removed]",
      "text/plain": [
       "<Figure size 400x400 with 2 Axes>"
      ]
     },
     "metadata": {},
     "output_type": "display_data"
    }
   ],
   "source": [
    "#Confusion Matrix\n",
    "y_predicted = knn.predict(X_test)\n",
    "cm = confusion_matrix(y_test,y_predicted)\n",
    "\n",
    "plt.figure(figsize = (4,4))\n",
    "sns.heatmap(cm,annot = True)\n",
    "plt.xlabel(\"predicted\")\n",
    "plt.ylabel(\"Truth\")"
   ]
  },
  {
   "cell_type": "code",
   "execution_count": 24,
   "id": "d66f55e0-8ab0-4927-a653-4efb91ae54df",
   "metadata": {},
   "outputs": [
    {
     "data": {
      "image/png": "[encoded data removed]",
      "text/plain": [
       "<Figure size 640x480 with 1 Axes>"
      ]
     },
     "metadata": {},
     "output_type": "display_data"
    }
   ],
   "source": [
    "hist1 = []\n",
    "for i in range(1,20):\n",
    "    clf = RandomForestClassifier(n_estimators=80, max_depth=i, random_state=0)\n",
    "    cross_val = cross_val_score(clf, X_train, y_train, cv=5)\n",
    "    hist1.append(np.mean(cross_val))\n",
    "plt.plot(hist1)\n",
    "plt.title('Cross Validations score for RandomForestClassifier')\n",
    "plt.xlabel('Max_depth')\n",
    "plt.ylabel('Accuracy')\n",
    "plt.grid()"
   ]
  },
  {
   "cell_type": "code",
   "execution_count": 25,
   "id": "2157bab9-a112-4b10-9bd3-547c92f1f4c3",
   "metadata": {},
   "outputs": [
    {
     "name": "stdout",
     "output_type": "stream",
     "text": [
      "Score of the model is -  0.7678571428571429\n",
      "Report card of this model - \n",
      "              precision    recall  f1-score   support\n",
      "\n",
      "           0      0.784     0.867     0.824       105\n",
      "           1      0.731     0.603     0.661        63\n",
      "\n",
      "    accuracy                          0.768       168\n",
      "   macro avg      0.758     0.735     0.742       168\n",
      "weighted avg      0.764     0.768     0.763       168\n",
      "\n",
      "Accuracy score -  0.7678571428571429\n"
     ]
    }
   ],
   "source": [
    "ran_for = RandomForestClassifier(n_estimators=100, max_depth= 6, random_state=0)\n",
    "ran_for.fit(X_train,y_train)\n",
    "y_pred_ran = ran_for.predict(X_test)\n",
    "score = ran_for.score(X_test, y_test)\n",
    "print(\"Score of the model is - \",score)\n",
    "print(\"Report card of this model - \")\n",
    "print(metrics.classification_report(y_test, y_pred_ran, digits=3))\n",
    "print(\"Accuracy score - \", metrics.accuracy_score(y_test,y_pred_ran))"
   ]
  },
  {
   "cell_type": "code",
   "execution_count": 26,
   "id": "48227ca9-fe27-400c-836c-720099c259c9",
   "metadata": {},
   "outputs": [
    {
     "data": {
      "text/plain": [
       "Text(20.72222222222222, 0.5, 'Truth')"
      ]
     },
     "execution_count": 26,
     "metadata": {},
     "output_type": "execute_result"
    },
    {
     "data": {
      "image/png": "[encoded data removed]",
      "text/plain": [
       "<Figure size 400x400 with 2 Axes>"
      ]
     },
     "metadata": {},
     "output_type": "display_data"
    }
   ],
   "source": [
    "#Confusion Matrix\n",
    "y_predicted = ran_for.predict(X_test)\n",
    "cm = confusion_matrix(y_test,y_predicted)\n",
    "\n",
    "plt.figure(figsize = (4,4))\n",
    "sns.heatmap(cm,annot = True)\n",
    "plt.xlabel(\"predicted\")\n",
    "plt.ylabel(\"Truth\")"
   ]
  },
  {
   "cell_type": "code",
   "execution_count": 27,
   "id": "ad3477ea-353e-47f2-8158-dcfddc62c697",
   "metadata": {},
   "outputs": [
    {
     "data": {
      "image/png": "[encoded data removed]",
      "text/plain": [
       "<Figure size 640x480 with 1 Axes>"
      ]
     },
     "metadata": {},
     "output_type": "display_data"
    }
   ],
   "source": [
    "grid = [0.0001,0.001, 0.01, 0.1,0.2,0.4]\n",
    "hist = []\n",
    "for val in grid:\n",
    "    clf = SVC(gamma=val)\n",
    "    cross_val = cross_val_score(clf, X, y, cv=5)\n",
    "    hist.append(np.mean(cross_val))\n",
    "plt.plot([str(i) for i in grid], hist)\n",
    "plt.title('Cross Validations score for SVC')\n",
    "plt.xlabel('gamma')\n",
    "plt.ylabel('Accuracy')\n",
    "plt.grid()\n",
    "plt.show()"
   ]
  },
  {
   "cell_type": "code",
   "execution_count": 28,
   "id": "34e79543-8d99-4563-acd0-b6ce474bb7f8",
   "metadata": {},
   "outputs": [
    {
     "name": "stdout",
     "output_type": "stream",
     "text": [
      "Score of the model is -  0.7678571428571429\n",
      "Report card of this model - \n",
      "              precision    recall  f1-score   support\n",
      "\n",
      "           0      0.780     0.876     0.825       105\n",
      "           1      0.740     0.587     0.655        63\n",
      "\n",
      "    accuracy                          0.768       168\n",
      "   macro avg      0.760     0.732     0.740       168\n",
      "weighted avg      0.765     0.768     0.761       168\n",
      "\n",
      "Accuracy score -  0.7678571428571429\n"
     ]
    }
   ],
   "source": [
    "svm = SVC(kernel= \"linear\",C=0.1, random_state = 0)\n",
    "svm.fit(X_train,y_train)\n",
    "y_pred_svm = svm.predict(X_test)\n",
    "score = svm.score(X_test, y_test)\n",
    "print(\"Score of the model is - \",score)\n",
    "print(\"Report card of this model - \")\n",
    "print(metrics.classification_report(y_test, y_pred_svm, digits=3))\n",
    "print(\"Accuracy score - \", metrics.accuracy_score(y_test,y_pred_svm))"
   ]
  },
  {
   "cell_type": "code",
   "execution_count": 29,
   "id": "4011719e-9cfe-464a-80dd-ec903205b4df",
   "metadata": {},
   "outputs": [
    {
     "data": {
      "text/plain": [
       "Text(20.72222222222222, 0.5, 'Truth')"
      ]
     },
     "execution_count": 29,
     "metadata": {},
     "output_type": "execute_result"
    },
    {
     "data": {
      "image/png": "[encoded data removed]",
      "text/plain": [
       "<Figure size 400x400 with 2 Axes>"
      ]
     },
     "metadata": {},
     "output_type": "display_data"
    }
   ],
   "source": [
    "#Confusion Matrix\n",
    "y_predicted = svm.predict(X_test)\n",
    "cm = confusion_matrix(y_test,y_predicted)\n",
    "\n",
    "plt.figure(figsize = (4,4))\n",
    "sns.heatmap(cm,annot = True)\n",
    "plt.xlabel(\"predicted\")\n",
    "plt.ylabel(\"Truth\")"
   ]
  },
  {
   "cell_type": "code",
   "execution_count": 30,
   "id": "331ee017-f7ed-4dcd-92ad-b6f0691da8ae",
   "metadata": {},
   "outputs": [
    {
     "data": {
      "image/png": "[encoded data removed]",
      "text/plain": [
       "<Figure size 2000x1100 with 1 Axes>"
      ]
     },
     "metadata": {},
     "output_type": "display_data"
    }
   ],
   "source": [
    "import shap\n",
    "from sklearn.ensemble import RandomForestClassifier         # using random forest to explain for ease\n",
    "rfc = RandomForestClassifier(max_features=2,n_estimators=100,bootstrap=True)\n",
    "\n",
    "rfc.fit(X, y)\n",
    "\n",
    "explainer = shap.TreeExplainer(rfc)\n",
    "\n",
    "# calculate shap values. This is what we will plot.\n",
    "shap_values = explainer.shap_values(X)\n",
    "shap.summary_plot(shap_values, X, plot_size=(20,11), alpha=0.2, plot_type='bar')"
   ]
  },
  {
   "cell_type": "code",
   "execution_count": 31,
   "id": "5033ce23-6f14-4281-bd7e-ae9298f63d54",
   "metadata": {},
   "outputs": [
    {
     "data": {
      "text/plain": [
       "Status\n",
       "0    257\n",
       "1    161\n",
       "Name: count, dtype: int64"
      ]
     },
     "execution_count": 31,
     "metadata": {},
     "output_type": "execute_result"
    }
   ],
   "source": [
    "df['Status'].value_counts()"
   ]
  },
  {
   "cell_type": "code",
   "execution_count": null,
   "id": "d768f43f-09f3-4dc7-b3fd-67b62d3086ff",
   "metadata": {},
   "outputs": [],
   "source": []
  }
 ],
 "metadata": {
  "kernelspec": {
   "display_name": "3.11",
   "language": "python",
   "name": "3.11"
  },
  "language_info": {
   "codemirror_mode": {
    "name": "ipython",
    "version": 3
   },
   "file_extension": ".py",
   "mimetype": "text/x-python",
   "name": "python",
   "nbconvert_exporter": "python",
   "pygments_lexer": "ipython3",
   "version": "3.11.6"
  }
 },
 "nbformat": 4,
 "nbformat_minor": 5
}
