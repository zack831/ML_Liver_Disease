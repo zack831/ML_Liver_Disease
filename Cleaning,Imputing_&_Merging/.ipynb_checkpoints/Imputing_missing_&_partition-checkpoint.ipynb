{
 "cells": [
  {
   "cell_type": "code",
   "execution_count": 1,
   "id": "cc07d475-319f-4091-a1a3-1450343a6686",
   "metadata": {},
   "outputs": [],
   "source": [
    "import pandas as pd\n",
    "import numpy as np"
   ]
  },
  {
   "cell_type": "code",
   "execution_count": 2,
   "id": "43683671-3fd9-47c0-80e5-78f051e58a76",
   "metadata": {},
   "outputs": [],
   "source": [
    "df = pd.read_csv('/home/zack83/Dropbox/Tripura_University/Project_Final/Databases/Cleaned_Part2/cirrF.csv')\n",
    "df1 = pd.read_csv('/home/zack83/Dropbox/Tripura_University/Project_Final/Databases/Cleaned_Part2/hepatF.csv')\n",
    "df2 = pd.read_csv('/home/zack83/Dropbox/Tripura_University/Project_Final/Databases/Cleaned_Part1/HCCTest000.csv')"
   ]
  },
  {
   "cell_type": "code",
   "execution_count": 3,
   "id": "1ce94882-0c8a-4f0c-b359-8ebdcfe9a079",
   "metadata": {},
   "outputs": [],
   "source": [
    "#data Extracting for cirrhosis\n",
    "#STARTS"
   ]
  },
  {
   "cell_type": "code",
   "execution_count": 4,
   "id": "d08ad777-8c0a-470d-b847-4cc35cdb40dc",
   "metadata": {},
   "outputs": [
    {
     "name": "stdout",
     "output_type": "stream",
     "text": [
      "<class 'pandas.core.frame.DataFrame'>\n",
      "RangeIndex: 418 entries, 0 to 417\n",
      "Data columns (total 13 columns):\n",
      " #   Column         Non-Null Count  Dtype  \n",
      "---  ------         --------------  -----  \n",
      " 0   AGE            418 non-null    int64  \n",
      " 1   GENDER         418 non-null    int64  \n",
      " 2   ALBUMIN        418 non-null    float64\n",
      " 3   BILIRUBIN      418 non-null    float64\n",
      " 4   ALK_PHOSPHATE  418 non-null    float64\n",
      " 5   SGOT           418 non-null    float64\n",
      " 6   ASCITES        418 non-null    int64  \n",
      " 7   SPIDERS        418 non-null    int64  \n",
      " 8   PROTHROMBIN    418 non-null    float64\n",
      " 9   HEPATOMEGALY   418 non-null    int64  \n",
      " 10  PALTELETS      418 non-null    float64\n",
      " 11  STATUS         418 non-null    int64  \n",
      " 12  CLASS          418 non-null    int64  \n",
      "dtypes: float64(6), int64(7)\n",
      "memory usage: 42.6 KB\n"
     ]
    }
   ],
   "source": [
    "df.info()"
   ]
  },
  {
   "cell_type": "code",
   "execution_count": 5,
   "id": "52bbbed5-f5cd-4d72-b6f6-13b5ce6bc84b",
   "metadata": {},
   "outputs": [],
   "source": [
    "died=df.loc[df['STATUS'] == 1] ## cirrhosis died "
   ]
  },
  {
   "cell_type": "code",
   "execution_count": 6,
   "id": "91d9bb3f-7050-4ca5-bafa-b753f9f0e32d",
   "metadata": {},
   "outputs": [
    {
     "name": "stdout",
     "output_type": "stream",
     "text": [
      "<class 'pandas.core.frame.DataFrame'>\n",
      "Index: 161 entries, 0 to 413\n",
      "Data columns (total 13 columns):\n",
      " #   Column         Non-Null Count  Dtype  \n",
      "---  ------         --------------  -----  \n",
      " 0   AGE            161 non-null    int64  \n",
      " 1   GENDER         161 non-null    int64  \n",
      " 2   ALBUMIN        161 non-null    float64\n",
      " 3   BILIRUBIN      161 non-null    float64\n",
      " 4   ALK_PHOSPHATE  161 non-null    float64\n",
      " 5   SGOT           161 non-null    float64\n",
      " 6   ASCITES        161 non-null    int64  \n",
      " 7   SPIDERS        161 non-null    int64  \n",
      " 8   PROTHROMBIN    161 non-null    float64\n",
      " 9   HEPATOMEGALY   161 non-null    int64  \n",
      " 10  PALTELETS      161 non-null    float64\n",
      " 11  STATUS         161 non-null    int64  \n",
      " 12  CLASS          161 non-null    int64  \n",
      "dtypes: float64(6), int64(7)\n",
      "memory usage: 17.6 KB\n"
     ]
    }
   ],
   "source": [
    "died.info()"
   ]
  },
  {
   "cell_type": "code",
   "execution_count": 7,
   "id": "230930bf-1cea-46b1-838a-8895698731ae",
   "metadata": {},
   "outputs": [],
   "source": [
    "died.to_csv('/home/zack83/Dropbox/Tripura_University/Project_Final/Databases/Partitioned_Datasets/Cirrhosis/cirr_died.csv',index = False)"
   ]
  },
  {
   "cell_type": "code",
   "execution_count": 8,
   "id": "e9f9306b-19c2-494c-a81d-9fa0359a4899",
   "metadata": {},
   "outputs": [],
   "source": [
    "lived=df.loc[df['STATUS'] == 0] # cirrhosis lived"
   ]
  },
  {
   "cell_type": "code",
   "execution_count": 9,
   "id": "fd93fb6b-c704-4fa9-97ff-b7443eb8f8f7",
   "metadata": {},
   "outputs": [
    {
     "name": "stdout",
     "output_type": "stream",
     "text": [
      "<class 'pandas.core.frame.DataFrame'>\n",
      "Index: 257 entries, 1 to 417\n",
      "Data columns (total 13 columns):\n",
      " #   Column         Non-Null Count  Dtype  \n",
      "---  ------         --------------  -----  \n",
      " 0   AGE            257 non-null    int64  \n",
      " 1   GENDER         257 non-null    int64  \n",
      " 2   ALBUMIN        257 non-null    float64\n",
      " 3   BILIRUBIN      257 non-null    float64\n",
      " 4   ALK_PHOSPHATE  257 non-null    float64\n",
      " 5   SGOT           257 non-null    float64\n",
      " 6   ASCITES        257 non-null    int64  \n",
      " 7   SPIDERS        257 non-null    int64  \n",
      " 8   PROTHROMBIN    257 non-null    float64\n",
      " 9   HEPATOMEGALY   257 non-null    int64  \n",
      " 10  PALTELETS      257 non-null    float64\n",
      " 11  STATUS         257 non-null    int64  \n",
      " 12  CLASS          257 non-null    int64  \n",
      "dtypes: float64(6), int64(7)\n",
      "memory usage: 28.1 KB\n"
     ]
    }
   ],
   "source": [
    "lived.info()"
   ]
  },
  {
   "cell_type": "code",
   "execution_count": 10,
   "id": "ef6942fe-10aa-42c7-8360-74fce8d31c1f",
   "metadata": {},
   "outputs": [],
   "source": [
    "lived.to_csv('/home/zack83/Dropbox/Tripura_University/Project_Final/Databases/Partitioned_Datasets/Cirrhosis/cirr_lived.csv',index = False)"
   ]
  },
  {
   "cell_type": "code",
   "execution_count": 11,
   "id": "10951924-ecc0-403e-9ce0-bc243f18d941",
   "metadata": {},
   "outputs": [],
   "source": [
    "#ENDS"
   ]
  },
  {
   "cell_type": "code",
   "execution_count": 12,
   "id": "000ef673-4547-4d7e-a239-68776be7046e",
   "metadata": {},
   "outputs": [],
   "source": [
    "#data extracting for hepatitis\n",
    "#STARTS"
   ]
  },
  {
   "cell_type": "code",
   "execution_count": 13,
   "id": "6079b5fd-5f3e-468e-b65f-b97b20eb8d8e",
   "metadata": {},
   "outputs": [
    {
     "name": "stdout",
     "output_type": "stream",
     "text": [
      "<class 'pandas.core.frame.DataFrame'>\n",
      "RangeIndex: 155 entries, 0 to 154\n",
      "Data columns (total 14 columns):\n",
      " #   Column         Non-Null Count  Dtype  \n",
      "---  ------         --------------  -----  \n",
      " 0   AGE            155 non-null    int64  \n",
      " 1   GENDER         155 non-null    int64  \n",
      " 2   ALBUMIN        155 non-null    float64\n",
      " 3   BILIRUBIN      155 non-null    float64\n",
      " 4   ALK_PHOSPHATE  155 non-null    float64\n",
      " 5   SGOT           155 non-null    float64\n",
      " 6   ASCITES        155 non-null    int64  \n",
      " 7   SPIDERS        155 non-null    int64  \n",
      " 8   HEPATOMEGALY   155 non-null    int64  \n",
      " 9   PROTINE        155 non-null    float64\n",
      " 10  MALAISE        155 non-null    int64  \n",
      " 11  VARICES        155 non-null    int64  \n",
      " 12  STATUS         155 non-null    int64  \n",
      " 13  CLASS          155 non-null    int64  \n",
      "dtypes: float64(5), int64(9)\n",
      "memory usage: 17.1 KB\n"
     ]
    }
   ],
   "source": [
    "df1.info()"
   ]
  },
  {
   "cell_type": "code",
   "execution_count": 14,
   "id": "8681a58b-dbe2-4eb6-a63d-e2df21cf8fb0",
   "metadata": {},
   "outputs": [],
   "source": [
    "died=df1.loc[df1['STATUS'] == 1] ## hepatitis died"
   ]
  },
  {
   "cell_type": "code",
   "execution_count": 15,
   "id": "9ee2f1ca-0389-48c5-a58d-226d97fc5110",
   "metadata": {},
   "outputs": [
    {
     "name": "stdout",
     "output_type": "stream",
     "text": [
      "<class 'pandas.core.frame.DataFrame'>\n",
      "Index: 32 entries, 6 to 154\n",
      "Data columns (total 14 columns):\n",
      " #   Column         Non-Null Count  Dtype  \n",
      "---  ------         --------------  -----  \n",
      " 0   AGE            32 non-null     int64  \n",
      " 1   GENDER         32 non-null     int64  \n",
      " 2   ALBUMIN        32 non-null     float64\n",
      " 3   BILIRUBIN      32 non-null     float64\n",
      " 4   ALK_PHOSPHATE  32 non-null     float64\n",
      " 5   SGOT           32 non-null     float64\n",
      " 6   ASCITES        32 non-null     int64  \n",
      " 7   SPIDERS        32 non-null     int64  \n",
      " 8   HEPATOMEGALY   32 non-null     int64  \n",
      " 9   PROTINE        32 non-null     float64\n",
      " 10  MALAISE        32 non-null     int64  \n",
      " 11  VARICES        32 non-null     int64  \n",
      " 12  STATUS         32 non-null     int64  \n",
      " 13  CLASS          32 non-null     int64  \n",
      "dtypes: float64(5), int64(9)\n",
      "memory usage: 3.8 KB\n"
     ]
    }
   ],
   "source": [
    "died.info()"
   ]
  },
  {
   "cell_type": "code",
   "execution_count": 16,
   "id": "98a66878-ce8a-4c60-8153-67b68452ec64",
   "metadata": {},
   "outputs": [],
   "source": [
    "died.to_csv('/home/zack83/Dropbox/Tripura_University/Project_Final/Databases/Partitioned_Datasets/Hepatitis/hepa_died.csv',index = False)"
   ]
  },
  {
   "cell_type": "code",
   "execution_count": 17,
   "id": "055a71ff-3dcb-48a4-b5f3-02bb9a2bf9b8",
   "metadata": {},
   "outputs": [],
   "source": [
    "lived=df1.loc[(df1['STATUS'] == 0)] # hepatitis lived"
   ]
  },
  {
   "cell_type": "code",
   "execution_count": 18,
   "id": "737ebcd4-31b2-4aaf-bdcd-a060adfb3550",
   "metadata": {},
   "outputs": [
    {
     "name": "stdout",
     "output_type": "stream",
     "text": [
      "<class 'pandas.core.frame.DataFrame'>\n",
      "Index: 123 entries, 0 to 153\n",
      "Data columns (total 14 columns):\n",
      " #   Column         Non-Null Count  Dtype  \n",
      "---  ------         --------------  -----  \n",
      " 0   AGE            123 non-null    int64  \n",
      " 1   GENDER         123 non-null    int64  \n",
      " 2   ALBUMIN        123 non-null    float64\n",
      " 3   BILIRUBIN      123 non-null    float64\n",
      " 4   ALK_PHOSPHATE  123 non-null    float64\n",
      " 5   SGOT           123 non-null    float64\n",
      " 6   ASCITES        123 non-null    int64  \n",
      " 7   SPIDERS        123 non-null    int64  \n",
      " 8   HEPATOMEGALY   123 non-null    int64  \n",
      " 9   PROTINE        123 non-null    float64\n",
      " 10  MALAISE        123 non-null    int64  \n",
      " 11  VARICES        123 non-null    int64  \n",
      " 12  STATUS         123 non-null    int64  \n",
      " 13  CLASS          123 non-null    int64  \n",
      "dtypes: float64(5), int64(9)\n",
      "memory usage: 14.4 KB\n"
     ]
    }
   ],
   "source": [
    "lived.info()"
   ]
  },
  {
   "cell_type": "code",
   "execution_count": 19,
   "id": "b5c8725a-ab2f-4524-923a-81fa62eeedc2",
   "metadata": {},
   "outputs": [],
   "source": [
    "lived.to_csv('/home/zack83/Dropbox/Tripura_University/Project_Final/Databases/Partitioned_Datasets/Hepatitis/hepa_lived.csv',index = False)"
   ]
  },
  {
   "cell_type": "code",
   "execution_count": 20,
   "id": "8fe1f38f-b136-4af1-9a5f-62dbbeccd11e",
   "metadata": {},
   "outputs": [],
   "source": [
    "##ENDS"
   ]
  },
  {
   "cell_type": "code",
   "execution_count": 21,
   "id": "cb486b22-77aa-4991-bc37-8c235f256081",
   "metadata": {},
   "outputs": [],
   "source": [
    "#data cleaning for hcc for cirrhosis and hepatitis by considiring HCC dataset\n",
    "#STARTS"
   ]
  },
  {
   "cell_type": "code",
   "execution_count": 22,
   "id": "23aa8835-473f-49de-a2e9-5e21aaa40be4",
   "metadata": {},
   "outputs": [],
   "source": [
    "feature_extracted2 = ['Age','Gender','Albumin','HBsAg','HBeAg','HBcAb','HCVAb','Dir_Bil','ALP','AST','Ascites','AFP','Ferritin','Hemoglobin','Platelets','Class','Cirrhosis','TP','Varices']"
   ]
  },
  {
   "cell_type": "code",
   "execution_count": 23,
   "id": "2195d8f5-0af7-4667-8247-2185a7328c16",
   "metadata": {},
   "outputs": [
    {
     "name": "stdout",
     "output_type": "stream",
     "text": [
      "['Age', 'Gender', 'Albumin', 'HBsAg', 'HBeAg', 'HBcAb', 'HCVAb', 'Dir_Bil', 'ALP', 'AST', 'Ascites', 'AFP', 'Ferritin', 'Hemoglobin', 'Platelets', 'Class', 'Cirrhosis', 'TP', 'Varices']\n"
     ]
    }
   ],
   "source": [
    "print(feature_extracted2)"
   ]
  },
  {
   "cell_type": "code",
   "execution_count": 24,
   "id": "b82e907b-cc81-43bd-a46c-78c395658521",
   "metadata": {},
   "outputs": [],
   "source": [
    "df2 = df2[feature_extracted2]"
   ]
  },
  {
   "cell_type": "code",
   "execution_count": 25,
   "id": "88887ab2-fd5e-4df4-815a-87caac37fac6",
   "metadata": {},
   "outputs": [
    {
     "name": "stdout",
     "output_type": "stream",
     "text": [
      "<class 'pandas.core.frame.DataFrame'>\n",
      "RangeIndex: 204 entries, 0 to 203\n",
      "Data columns (total 19 columns):\n",
      " #   Column      Non-Null Count  Dtype  \n",
      "---  ------      --------------  -----  \n",
      " 0   Age         204 non-null    int64  \n",
      " 1   Gender      204 non-null    int64  \n",
      " 2   Albumin     204 non-null    float64\n",
      " 3   HBsAg       204 non-null    int64  \n",
      " 4   HBeAg       204 non-null    int64  \n",
      " 5   HBcAb       204 non-null    int64  \n",
      " 6   HCVAb       204 non-null    int64  \n",
      " 7   Dir_Bil     204 non-null    float64\n",
      " 8   ALP         204 non-null    int64  \n",
      " 9   AST         204 non-null    int64  \n",
      " 10  Ascites     204 non-null    int64  \n",
      " 11  AFP         204 non-null    float64\n",
      " 12  Ferritin    204 non-null    float64\n",
      " 13  Hemoglobin  204 non-null    float64\n",
      " 14  Platelets   204 non-null    float64\n",
      " 15  Class       204 non-null    int64  \n",
      " 16  Cirrhosis   204 non-null    int64  \n",
      " 17  TP          204 non-null    float64\n",
      " 18  Varices     204 non-null    int64  \n",
      "dtypes: float64(7), int64(12)\n",
      "memory usage: 30.4 KB\n"
     ]
    }
   ],
   "source": [
    "df2.info()"
   ]
  },
  {
   "cell_type": "code",
   "execution_count": 26,
   "id": "af35d66c-1ed1-4e50-834d-0d2cacd5ce10",
   "metadata": {},
   "outputs": [],
   "source": [
    "df2.rename(columns = {'Age':'AGE','Gender':'GENDER','Albumin':'ALBUMIN','Dir_Bil':'BILIRUBIN','ALP':'ALK_PHOSPHATE','AST':'SGOT','Ascites':'ASCITES','AFP':'ALPHA-FETOPROTEIN','Ferritin':'FERRITIN','Hemoglobin':'HEMOGLOBIN','Platelets':'PALTELETS','TP':'PROTINE','Varices':'VARICES','Class':'STATUS'}, inplace = True)"
   ]
  },
  {
   "cell_type": "code",
   "execution_count": 27,
   "id": "97e37cb8-c956-497c-b373-8dc8bee77a1d",
   "metadata": {},
   "outputs": [
    {
     "name": "stdout",
     "output_type": "stream",
     "text": [
      "<class 'pandas.core.frame.DataFrame'>\n",
      "RangeIndex: 204 entries, 0 to 203\n",
      "Data columns (total 19 columns):\n",
      " #   Column             Non-Null Count  Dtype  \n",
      "---  ------             --------------  -----  \n",
      " 0   AGE                204 non-null    int64  \n",
      " 1   GENDER             204 non-null    int64  \n",
      " 2   ALBUMIN            204 non-null    float64\n",
      " 3   HBsAg              204 non-null    int64  \n",
      " 4   HBeAg              204 non-null    int64  \n",
      " 5   HBcAb              204 non-null    int64  \n",
      " 6   HCVAb              204 non-null    int64  \n",
      " 7   BILIRUBIN          204 non-null    float64\n",
      " 8   ALK_PHOSPHATE      204 non-null    int64  \n",
      " 9   SGOT               204 non-null    int64  \n",
      " 10  ASCITES            204 non-null    int64  \n",
      " 11  ALPHA-FETOPROTEIN  204 non-null    float64\n",
      " 12  FERRITIN           204 non-null    float64\n",
      " 13  HEMOGLOBIN         204 non-null    float64\n",
      " 14  PALTELETS          204 non-null    float64\n",
      " 15  STATUS             204 non-null    int64  \n",
      " 16  Cirrhosis          204 non-null    int64  \n",
      " 17  PROTINE            204 non-null    float64\n",
      " 18  VARICES            204 non-null    int64  \n",
      "dtypes: float64(7), int64(12)\n",
      "memory usage: 30.4 KB\n"
     ]
    }
   ],
   "source": [
    "df2.info()\n",
    "##the below dataset contain data for both cirrhosis and heptatis data"
   ]
  },
  {
   "cell_type": "code",
   "execution_count": 28,
   "id": "9761f409-f326-45bd-935f-4c8afc9568b1",
   "metadata": {},
   "outputs": [
    {
     "data": {
      "text/html": [
       "<div>\n",
       "<style scoped>\n",
       "    .dataframe tbody tr th:only-of-type {\n",
       "        vertical-align: middle;\n",
       "    }\n",
       "\n",
       "    .dataframe tbody tr th {\n",
       "        vertical-align: top;\n",
       "    }\n",
       "\n",
       "    .dataframe thead th {\n",
       "        text-align: right;\n",
       "    }\n",
       "</style>\n",
       "<table border=\"1\" class=\"dataframe\">\n",
       "  <thead>\n",
       "    <tr style=\"text-align: right;\">\n",
       "      <th></th>\n",
       "      <th>AGE</th>\n",
       "      <th>GENDER</th>\n",
       "      <th>ALBUMIN</th>\n",
       "      <th>HBsAg</th>\n",
       "      <th>HBeAg</th>\n",
       "      <th>HBcAb</th>\n",
       "      <th>HCVAb</th>\n",
       "      <th>BILIRUBIN</th>\n",
       "      <th>ALK_PHOSPHATE</th>\n",
       "      <th>SGOT</th>\n",
       "      <th>ASCITES</th>\n",
       "      <th>ALPHA-FETOPROTEIN</th>\n",
       "      <th>FERRITIN</th>\n",
       "      <th>HEMOGLOBIN</th>\n",
       "      <th>PALTELETS</th>\n",
       "      <th>STATUS</th>\n",
       "      <th>Cirrhosis</th>\n",
       "      <th>PROTINE</th>\n",
       "      <th>VARICES</th>\n",
       "    </tr>\n",
       "  </thead>\n",
       "  <tbody>\n",
       "    <tr>\n",
       "      <th>3</th>\n",
       "      <td>77</td>\n",
       "      <td>0</td>\n",
       "      <td>3.70</td>\n",
       "      <td>0</td>\n",
       "      <td>0</td>\n",
       "      <td>0</td>\n",
       "      <td>0</td>\n",
       "      <td>0.20</td>\n",
       "      <td>174</td>\n",
       "      <td>64</td>\n",
       "      <td>0</td>\n",
       "      <td>2440.0</td>\n",
       "      <td>1316.0</td>\n",
       "      <td>13.4</td>\n",
       "      <td>279.00</td>\n",
       "      <td>1</td>\n",
       "      <td>1</td>\n",
       "      <td>8.1</td>\n",
       "      <td>0</td>\n",
       "    </tr>\n",
       "    <tr>\n",
       "      <th>5</th>\n",
       "      <td>75</td>\n",
       "      <td>0</td>\n",
       "      <td>3.40</td>\n",
       "      <td>0</td>\n",
       "      <td>0</td>\n",
       "      <td>0</td>\n",
       "      <td>0</td>\n",
       "      <td>1.40</td>\n",
       "      <td>396</td>\n",
       "      <td>122</td>\n",
       "      <td>1</td>\n",
       "      <td>110.0</td>\n",
       "      <td>111.0</td>\n",
       "      <td>13.4</td>\n",
       "      <td>85.00</td>\n",
       "      <td>1</td>\n",
       "      <td>1</td>\n",
       "      <td>5.6</td>\n",
       "      <td>1</td>\n",
       "    </tr>\n",
       "    <tr>\n",
       "      <th>6</th>\n",
       "      <td>49</td>\n",
       "      <td>0</td>\n",
       "      <td>2.35</td>\n",
       "      <td>0</td>\n",
       "      <td>0</td>\n",
       "      <td>1</td>\n",
       "      <td>1</td>\n",
       "      <td>2.19</td>\n",
       "      <td>211</td>\n",
       "      <td>183</td>\n",
       "      <td>0</td>\n",
       "      <td>138.9</td>\n",
       "      <td>1452.0</td>\n",
       "      <td>10.4</td>\n",
       "      <td>42000.00</td>\n",
       "      <td>1</td>\n",
       "      <td>1</td>\n",
       "      <td>7.3</td>\n",
       "      <td>0</td>\n",
       "    </tr>\n",
       "    <tr>\n",
       "      <th>7</th>\n",
       "      <td>61</td>\n",
       "      <td>0</td>\n",
       "      <td>3.10</td>\n",
       "      <td>0</td>\n",
       "      <td>0</td>\n",
       "      <td>0</td>\n",
       "      <td>0</td>\n",
       "      <td>1.30</td>\n",
       "      <td>300</td>\n",
       "      <td>108</td>\n",
       "      <td>0</td>\n",
       "      <td>9860.0</td>\n",
       "      <td>706.0</td>\n",
       "      <td>10.8</td>\n",
       "      <td>58.00</td>\n",
       "      <td>1</td>\n",
       "      <td>1</td>\n",
       "      <td>7.1</td>\n",
       "      <td>0</td>\n",
       "    </tr>\n",
       "    <tr>\n",
       "      <th>10</th>\n",
       "      <td>41</td>\n",
       "      <td>0</td>\n",
       "      <td>4.40</td>\n",
       "      <td>0</td>\n",
       "      <td>0</td>\n",
       "      <td>0</td>\n",
       "      <td>1</td>\n",
       "      <td>1.10</td>\n",
       "      <td>236</td>\n",
       "      <td>334</td>\n",
       "      <td>1</td>\n",
       "      <td>100809.0</td>\n",
       "      <td>363.0</td>\n",
       "      <td>13.0</td>\n",
       "      <td>196.00</td>\n",
       "      <td>1</td>\n",
       "      <td>1</td>\n",
       "      <td>7.6</td>\n",
       "      <td>1</td>\n",
       "    </tr>\n",
       "    <tr>\n",
       "      <th>...</th>\n",
       "      <td>...</td>\n",
       "      <td>...</td>\n",
       "      <td>...</td>\n",
       "      <td>...</td>\n",
       "      <td>...</td>\n",
       "      <td>...</td>\n",
       "      <td>...</td>\n",
       "      <td>...</td>\n",
       "      <td>...</td>\n",
       "      <td>...</td>\n",
       "      <td>...</td>\n",
       "      <td>...</td>\n",
       "      <td>...</td>\n",
       "      <td>...</td>\n",
       "      <td>...</td>\n",
       "      <td>...</td>\n",
       "      <td>...</td>\n",
       "      <td>...</td>\n",
       "      <td>...</td>\n",
       "    </tr>\n",
       "    <tr>\n",
       "      <th>198</th>\n",
       "      <td>65</td>\n",
       "      <td>0</td>\n",
       "      <td>3.45</td>\n",
       "      <td>0</td>\n",
       "      <td>0</td>\n",
       "      <td>0</td>\n",
       "      <td>0</td>\n",
       "      <td>1.10</td>\n",
       "      <td>575</td>\n",
       "      <td>228</td>\n",
       "      <td>0</td>\n",
       "      <td>337.2</td>\n",
       "      <td>718.0</td>\n",
       "      <td>12.4</td>\n",
       "      <td>216523.07</td>\n",
       "      <td>1</td>\n",
       "      <td>1</td>\n",
       "      <td>7.2</td>\n",
       "      <td>0</td>\n",
       "    </tr>\n",
       "    <tr>\n",
       "      <th>199</th>\n",
       "      <td>70</td>\n",
       "      <td>1</td>\n",
       "      <td>3.18</td>\n",
       "      <td>0</td>\n",
       "      <td>0</td>\n",
       "      <td>0</td>\n",
       "      <td>1</td>\n",
       "      <td>1.35</td>\n",
       "      <td>117</td>\n",
       "      <td>126</td>\n",
       "      <td>0</td>\n",
       "      <td>502.6</td>\n",
       "      <td>873.0</td>\n",
       "      <td>11.1</td>\n",
       "      <td>90846.80</td>\n",
       "      <td>1</td>\n",
       "      <td>1</td>\n",
       "      <td>7.0</td>\n",
       "      <td>1</td>\n",
       "    </tr>\n",
       "    <tr>\n",
       "      <th>200</th>\n",
       "      <td>80</td>\n",
       "      <td>1</td>\n",
       "      <td>3.26</td>\n",
       "      <td>0</td>\n",
       "      <td>0</td>\n",
       "      <td>0</td>\n",
       "      <td>0</td>\n",
       "      <td>1.04</td>\n",
       "      <td>231</td>\n",
       "      <td>56</td>\n",
       "      <td>1</td>\n",
       "      <td>2353.7</td>\n",
       "      <td>70.0</td>\n",
       "      <td>12.2</td>\n",
       "      <td>332033.67</td>\n",
       "      <td>1</td>\n",
       "      <td>1</td>\n",
       "      <td>6.5</td>\n",
       "      <td>0</td>\n",
       "    </tr>\n",
       "    <tr>\n",
       "      <th>201</th>\n",
       "      <td>80</td>\n",
       "      <td>0</td>\n",
       "      <td>2.93</td>\n",
       "      <td>0</td>\n",
       "      <td>0</td>\n",
       "      <td>0</td>\n",
       "      <td>0</td>\n",
       "      <td>1.57</td>\n",
       "      <td>304</td>\n",
       "      <td>68</td>\n",
       "      <td>0</td>\n",
       "      <td>23.4</td>\n",
       "      <td>106.0</td>\n",
       "      <td>10.2</td>\n",
       "      <td>195.76</td>\n",
       "      <td>1</td>\n",
       "      <td>1</td>\n",
       "      <td>7.0</td>\n",
       "      <td>0</td>\n",
       "    </tr>\n",
       "    <tr>\n",
       "      <th>202</th>\n",
       "      <td>74</td>\n",
       "      <td>0</td>\n",
       "      <td>3.31</td>\n",
       "      <td>0</td>\n",
       "      <td>0</td>\n",
       "      <td>0</td>\n",
       "      <td>0</td>\n",
       "      <td>0.63</td>\n",
       "      <td>197</td>\n",
       "      <td>48</td>\n",
       "      <td>0</td>\n",
       "      <td>6.1</td>\n",
       "      <td>859.0</td>\n",
       "      <td>13.0</td>\n",
       "      <td>101884.41</td>\n",
       "      <td>1</td>\n",
       "      <td>1</td>\n",
       "      <td>7.2</td>\n",
       "      <td>1</td>\n",
       "    </tr>\n",
       "  </tbody>\n",
       "</table>\n",
       "<p>90 rows × 19 columns</p>\n",
       "</div>"
      ],
      "text/plain": [
       "     AGE  GENDER  ALBUMIN  HBsAg  HBeAg  HBcAb  HCVAb  BILIRUBIN  \\\n",
       "3     77       0     3.70      0      0      0      0       0.20   \n",
       "5     75       0     3.40      0      0      0      0       1.40   \n",
       "6     49       0     2.35      0      0      1      1       2.19   \n",
       "7     61       0     3.10      0      0      0      0       1.30   \n",
       "10    41       0     4.40      0      0      0      1       1.10   \n",
       "..   ...     ...      ...    ...    ...    ...    ...        ...   \n",
       "198   65       0     3.45      0      0      0      0       1.10   \n",
       "199   70       1     3.18      0      0      0      1       1.35   \n",
       "200   80       1     3.26      0      0      0      0       1.04   \n",
       "201   80       0     2.93      0      0      0      0       1.57   \n",
       "202   74       0     3.31      0      0      0      0       0.63   \n",
       "\n",
       "     ALK_PHOSPHATE  SGOT  ASCITES  ALPHA-FETOPROTEIN  FERRITIN  HEMOGLOBIN  \\\n",
       "3              174    64        0             2440.0    1316.0        13.4   \n",
       "5              396   122        1              110.0     111.0        13.4   \n",
       "6              211   183        0              138.9    1452.0        10.4   \n",
       "7              300   108        0             9860.0     706.0        10.8   \n",
       "10             236   334        1           100809.0     363.0        13.0   \n",
       "..             ...   ...      ...                ...       ...         ...   \n",
       "198            575   228        0              337.2     718.0        12.4   \n",
       "199            117   126        0              502.6     873.0        11.1   \n",
       "200            231    56        1             2353.7      70.0        12.2   \n",
       "201            304    68        0               23.4     106.0        10.2   \n",
       "202            197    48        0                6.1     859.0        13.0   \n",
       "\n",
       "     PALTELETS  STATUS  Cirrhosis  PROTINE  VARICES  \n",
       "3       279.00       1          1      8.1        0  \n",
       "5        85.00       1          1      5.6        1  \n",
       "6     42000.00       1          1      7.3        0  \n",
       "7        58.00       1          1      7.1        0  \n",
       "10      196.00       1          1      7.6        1  \n",
       "..         ...     ...        ...      ...      ...  \n",
       "198  216523.07       1          1      7.2        0  \n",
       "199   90846.80       1          1      7.0        1  \n",
       "200  332033.67       1          1      6.5        0  \n",
       "201     195.76       1          1      7.0        0  \n",
       "202  101884.41       1          1      7.2        1  \n",
       "\n",
       "[90 rows x 19 columns]"
      ]
     },
     "execution_count": 28,
     "metadata": {},
     "output_type": "execute_result"
    }
   ],
   "source": [
    "#Getting data of those patient that have cirrhois and died from hcc dataset\n",
    "died = df2.loc[(df2['Cirrhosis'] == 1) & (df2['STATUS'] == 1)] ##DIED in cirrhosis\n",
    "died"
   ]
  },
  {
   "cell_type": "code",
   "execution_count": 29,
   "id": "78aff38e-b882-4060-a725-d22663e53037",
   "metadata": {},
   "outputs": [
    {
     "name": "stdout",
     "output_type": "stream",
     "text": [
      "<class 'pandas.core.frame.DataFrame'>\n",
      "Index: 73 entries, 1 to 199\n",
      "Data columns (total 19 columns):\n",
      " #   Column             Non-Null Count  Dtype  \n",
      "---  ------             --------------  -----  \n",
      " 0   AGE                73 non-null     int64  \n",
      " 1   GENDER             73 non-null     int64  \n",
      " 2   ALBUMIN            73 non-null     float64\n",
      " 3   HBsAg              73 non-null     int64  \n",
      " 4   HBeAg              73 non-null     int64  \n",
      " 5   HBcAb              73 non-null     int64  \n",
      " 6   HCVAb              73 non-null     int64  \n",
      " 7   BILIRUBIN          73 non-null     float64\n",
      " 8   ALK_PHOSPHATE      73 non-null     int64  \n",
      " 9   SGOT               73 non-null     int64  \n",
      " 10  ASCITES            73 non-null     int64  \n",
      " 11  ALPHA-FETOPROTEIN  73 non-null     float64\n",
      " 12  FERRITIN           73 non-null     float64\n",
      " 13  HEMOGLOBIN         73 non-null     float64\n",
      " 14  PALTELETS          73 non-null     float64\n",
      " 15  STATUS             73 non-null     int64  \n",
      " 16  Cirrhosis          73 non-null     int64  \n",
      " 17  PROTINE            73 non-null     float64\n",
      " 18  VARICES            73 non-null     int64  \n",
      "dtypes: float64(7), int64(12)\n",
      "memory usage: 11.4 KB\n"
     ]
    }
   ],
   "source": [
    "get = df2.loc[(df2['HBeAg'] == 1) | (df2['HCVAb'] == 1) | (df2['HBsAg'] == 1) | (df2['HBcAb'] == 1)]\n",
    "get.info() ##to check the number of hepatitis patient to cross validate"
   ]
  },
  {
   "cell_type": "code",
   "execution_count": 30,
   "id": "71fda340-b585-4a8d-953c-23af8969f33f",
   "metadata": {},
   "outputs": [
    {
     "name": "stdout",
     "output_type": "stream",
     "text": [
      "<class 'pandas.core.frame.DataFrame'>\n",
      "Index: 35 entries, 6 to 199\n",
      "Data columns (total 19 columns):\n",
      " #   Column             Non-Null Count  Dtype  \n",
      "---  ------             --------------  -----  \n",
      " 0   AGE                35 non-null     int64  \n",
      " 1   GENDER             35 non-null     int64  \n",
      " 2   ALBUMIN            35 non-null     float64\n",
      " 3   HBsAg              35 non-null     int64  \n",
      " 4   HBeAg              35 non-null     int64  \n",
      " 5   HBcAb              35 non-null     int64  \n",
      " 6   HCVAb              35 non-null     int64  \n",
      " 7   BILIRUBIN          35 non-null     float64\n",
      " 8   ALK_PHOSPHATE      35 non-null     int64  \n",
      " 9   SGOT               35 non-null     int64  \n",
      " 10  ASCITES            35 non-null     int64  \n",
      " 11  ALPHA-FETOPROTEIN  35 non-null     float64\n",
      " 12  FERRITIN           35 non-null     float64\n",
      " 13  HEMOGLOBIN         35 non-null     float64\n",
      " 14  PALTELETS          35 non-null     float64\n",
      " 15  STATUS             35 non-null     int64  \n",
      " 16  Cirrhosis          35 non-null     int64  \n",
      " 17  PROTINE            35 non-null     float64\n",
      " 18  VARICES            35 non-null     int64  \n",
      "dtypes: float64(7), int64(12)\n",
      "memory usage: 5.5 KB\n"
     ]
    }
   ],
   "source": [
    "#Getting data of those patient that have hepatitis and died from hcc dataset\n",
    "died2 = df2.loc[((df2['HBeAg'] == 1) | (df2['HCVAb'] == 1) | (df2['HBsAg'] == 1) | (df2['HBcAb'] == 1)) & (df2['STATUS'] == 1)] \n",
    "died2.info()"
   ]
  },
  {
   "cell_type": "code",
   "execution_count": 31,
   "id": "4c227715-5ae6-44f1-99fe-6af2e0c02451",
   "metadata": {},
   "outputs": [],
   "source": [
    "#dropping features that are unnecessary while imputation\n",
    "died = died.drop(['Cirrhosis','HBsAg','HBeAg','HBcAb','HCVAb'],axis = 1)\n",
    "died2 = died2.drop(['Cirrhosis','HBsAg','HBeAg','HBcAb','HCVAb'],axis = 1)"
   ]
  },
  {
   "cell_type": "code",
   "execution_count": 32,
   "id": "10de3c9d-f391-499b-98ad-242c363529ee",
   "metadata": {},
   "outputs": [],
   "source": [
    "#Getting data of those patient that have cirrhois and lived from hcc dataset\n",
    "lived = df2.loc[(df2['Cirrhosis'] == 1) & (df2['STATUS'] == 0)]"
   ]
  },
  {
   "cell_type": "code",
   "execution_count": 33,
   "id": "ee485281-5d50-43c2-819f-3bf02744b750",
   "metadata": {},
   "outputs": [
    {
     "name": "stdout",
     "output_type": "stream",
     "text": [
      "<class 'pandas.core.frame.DataFrame'>\n",
      "Index: 38 entries, 1 to 160\n",
      "Data columns (total 19 columns):\n",
      " #   Column             Non-Null Count  Dtype  \n",
      "---  ------             --------------  -----  \n",
      " 0   AGE                38 non-null     int64  \n",
      " 1   GENDER             38 non-null     int64  \n",
      " 2   ALBUMIN            38 non-null     float64\n",
      " 3   HBsAg              38 non-null     int64  \n",
      " 4   HBeAg              38 non-null     int64  \n",
      " 5   HBcAb              38 non-null     int64  \n",
      " 6   HCVAb              38 non-null     int64  \n",
      " 7   BILIRUBIN          38 non-null     float64\n",
      " 8   ALK_PHOSPHATE      38 non-null     int64  \n",
      " 9   SGOT               38 non-null     int64  \n",
      " 10  ASCITES            38 non-null     int64  \n",
      " 11  ALPHA-FETOPROTEIN  38 non-null     float64\n",
      " 12  FERRITIN           38 non-null     float64\n",
      " 13  HEMOGLOBIN         38 non-null     float64\n",
      " 14  PALTELETS          38 non-null     float64\n",
      " 15  STATUS             38 non-null     int64  \n",
      " 16  Cirrhosis          38 non-null     int64  \n",
      " 17  PROTINE            38 non-null     float64\n",
      " 18  VARICES            38 non-null     int64  \n",
      "dtypes: float64(7), int64(12)\n",
      "memory usage: 5.9 KB\n"
     ]
    }
   ],
   "source": [
    "#Getting data of those patient that have hepatitis and lived from hcc dataset\n",
    "lived2 = df2.loc[((df2['HBeAg'] == 1) | (df2['HCVAb'] == 1) | (df2['HBsAg'] == 1) | (df2['HBcAb'] == 1)) & (df2['STATUS'] == 0)]\n",
    "lived2.info()"
   ]
  },
  {
   "cell_type": "code",
   "execution_count": 34,
   "id": "0715e0d0-e389-4ec4-a3f7-2bc1e2935f8e",
   "metadata": {},
   "outputs": [],
   "source": [
    "#dropping features that are unnecessary while imputation\n",
    "lived = lived.drop(['Cirrhosis','HBsAg','HBeAg','HBcAb','HCVAb'],axis = 1)\n",
    "lived2 = lived2.drop(['Cirrhosis','HBsAg','HBeAg','HBcAb','HCVAb'],axis = 1)"
   ]
  },
  {
   "cell_type": "code",
   "execution_count": 35,
   "id": "239806dd-a3c5-467c-96cb-f115656948bd",
   "metadata": {},
   "outputs": [],
   "source": [
    "## hcc who died and have cirrhosis\n",
    "died.to_csv('/home/zack83/Dropbox/Tripura_University/Project_Final/Databases/Partitioned_Datasets/Hcc_&_Cirrhosis/hcc_cirr_died.csv',index = False)"
   ]
  },
  {
   "cell_type": "code",
   "execution_count": 36,
   "id": "de0744f3-2d94-4a2f-a2f3-a566d8c30ab6",
   "metadata": {},
   "outputs": [],
   "source": [
    "## hcc who died and have hepatitis\n",
    "died2.to_csv('/home/zack83/Dropbox/Tripura_University/Project_Final/Databases/Partitioned_Datasets/Hcc_&_Hepatitis/hcc_hepa_died.csv',index = False)"
   ]
  },
  {
   "cell_type": "code",
   "execution_count": 37,
   "id": "e702dccb-bd3d-4ac6-a7b5-c7d129975777",
   "metadata": {},
   "outputs": [],
   "source": [
    "## hcc who lived and have cirrhosis\n",
    "lived.to_csv('/home/zack83/Dropbox/Tripura_University/Project_Final/Databases/Partitioned_Datasets/Hcc_&_Cirrhosis/hcc_cirr_lived.csv',index = False)"
   ]
  },
  {
   "cell_type": "code",
   "execution_count": 38,
   "id": "c1e2b13d-66b0-4a3f-86a2-a79b753c014d",
   "metadata": {},
   "outputs": [],
   "source": [
    "## hcc who lived and have hepatitis\n",
    "lived2.to_csv('/home/zack83/Dropbox/Tripura_University/Project_Final/Databases/Partitioned_Datasets/Hcc_&_Hepatitis/hcc_hepa_lived.csv',index = False)"
   ]
  },
  {
   "cell_type": "code",
   "execution_count": 39,
   "id": "fb91aaa2-8fcc-4576-9343-f07537a6ddee",
   "metadata": {},
   "outputs": [],
   "source": [
    "##ENDS"
   ]
  },
  {
   "cell_type": "code",
   "execution_count": 40,
   "id": "5a655ab3-b37e-4cf4-afcf-fb3dd2b8481d",
   "metadata": {},
   "outputs": [],
   "source": [
    "## merging of patients of cirrhosis and hcc(cirr)\n",
    "#Starts"
   ]
  },
  {
   "cell_type": "code",
   "execution_count": 41,
   "id": "ada85992-987e-4a9d-b7fa-ce066e5f3133",
   "metadata": {},
   "outputs": [],
   "source": [
    "csv_files = [('/home/zack83/Dropbox/Tripura_University/Project_Final/Databases/Partitioned_Datasets/Cirrhosis/cirr_lived.csv'),('/home/zack83/Dropbox/Tripura_University/Project_Final/Databases/Partitioned_Datasets/Hcc_&_Cirrhosis/hcc_cirr_lived.csv')]\n",
    "df_concat = pd.concat([pd.read_csv(f) for f in csv_files ], ignore_index=True) "
   ]
  },
  {
   "cell_type": "code",
   "execution_count": 42,
   "id": "2cb3f1df-10b0-4506-a701-4d140acb3284",
   "metadata": {},
   "outputs": [
    {
     "name": "stdout",
     "output_type": "stream",
     "text": [
      "<class 'pandas.core.frame.DataFrame'>\n",
      "RangeIndex: 350 entries, 0 to 349\n",
      "Data columns (total 18 columns):\n",
      " #   Column             Non-Null Count  Dtype  \n",
      "---  ------             --------------  -----  \n",
      " 0   AGE                350 non-null    int64  \n",
      " 1   GENDER             350 non-null    int64  \n",
      " 2   ALBUMIN            350 non-null    float64\n",
      " 3   BILIRUBIN          350 non-null    float64\n",
      " 4   ALK_PHOSPHATE      350 non-null    float64\n",
      " 5   SGOT               350 non-null    float64\n",
      " 6   ASCITES            350 non-null    int64  \n",
      " 7   SPIDERS            257 non-null    float64\n",
      " 8   PROTHROMBIN        257 non-null    float64\n",
      " 9   HEPATOMEGALY       257 non-null    float64\n",
      " 10  PALTELETS          350 non-null    float64\n",
      " 11  STATUS             350 non-null    int64  \n",
      " 12  CLASS              257 non-null    float64\n",
      " 13  ALPHA-FETOPROTEIN  93 non-null     float64\n",
      " 14  FERRITIN           93 non-null     float64\n",
      " 15  HEMOGLOBIN         93 non-null     float64\n",
      " 16  PROTINE            93 non-null     float64\n",
      " 17  VARICES            93 non-null     float64\n",
      "dtypes: float64(14), int64(4)\n",
      "memory usage: 49.3 KB\n"
     ]
    }
   ],
   "source": [
    "df_concat.info()"
   ]
  },
  {
   "cell_type": "code",
   "execution_count": 43,
   "id": "3860b143-b272-49d2-af26-84fe017e2300",
   "metadata": {},
   "outputs": [],
   "source": [
    "df_concat.to_csv('/home/zack83/Dropbox/Tripura_University/Project_Final/Databases/Partitioned_Datasets/Cirhosis_&_Hcc(cirr)_merged/hcc_cirr_live_merge.csv',index = False)"
   ]
  },
  {
   "cell_type": "code",
   "execution_count": 44,
   "id": "e272bb0f-ab28-4fdb-b631-3fffbc7f6ade",
   "metadata": {},
   "outputs": [],
   "source": [
    "csv_files = [('/home/zack83/Dropbox/Tripura_University/Project_Final/Databases/Partitioned_Datasets/Cirrhosis/cirr_died.csv'),('/home/zack83/Dropbox/Tripura_University/Project_Final/Databases/Partitioned_Datasets/Hcc_&_Cirrhosis/hcc_cirr_died.csv')]\n",
    "df_concat = pd.concat([pd.read_csv(f) for f in csv_files ], ignore_index=True) "
   ]
  },
  {
   "cell_type": "code",
   "execution_count": 45,
   "id": "e8018e7f-6fef-40d2-ae5d-cb37216e07ad",
   "metadata": {},
   "outputs": [
    {
     "name": "stdout",
     "output_type": "stream",
     "text": [
      "<class 'pandas.core.frame.DataFrame'>\n",
      "RangeIndex: 251 entries, 0 to 250\n",
      "Data columns (total 18 columns):\n",
      " #   Column             Non-Null Count  Dtype  \n",
      "---  ------             --------------  -----  \n",
      " 0   AGE                251 non-null    int64  \n",
      " 1   GENDER             251 non-null    int64  \n",
      " 2   ALBUMIN            251 non-null    float64\n",
      " 3   BILIRUBIN          251 non-null    float64\n",
      " 4   ALK_PHOSPHATE      251 non-null    float64\n",
      " 5   SGOT               251 non-null    float64\n",
      " 6   ASCITES            251 non-null    int64  \n",
      " 7   SPIDERS            161 non-null    float64\n",
      " 8   PROTHROMBIN        161 non-null    float64\n",
      " 9   HEPATOMEGALY       161 non-null    float64\n",
      " 10  PALTELETS          251 non-null    float64\n",
      " 11  STATUS             251 non-null    int64  \n",
      " 12  CLASS              161 non-null    float64\n",
      " 13  ALPHA-FETOPROTEIN  90 non-null     float64\n",
      " 14  FERRITIN           90 non-null     float64\n",
      " 15  HEMOGLOBIN         90 non-null     float64\n",
      " 16  PROTINE            90 non-null     float64\n",
      " 17  VARICES            90 non-null     float64\n",
      "dtypes: float64(14), int64(4)\n",
      "memory usage: 35.4 KB\n"
     ]
    }
   ],
   "source": [
    "df_concat.info()"
   ]
  },
  {
   "cell_type": "code",
   "execution_count": 46,
   "id": "91bda387-e938-43e2-8eb3-81b2af985930",
   "metadata": {},
   "outputs": [],
   "source": [
    "df_concat.to_csv('/home/zack83/Dropbox/Tripura_University/Project_Final/Databases/Partitioned_Datasets/Cirhosis_&_Hcc(cirr)_merged/hcc_cirr_died_merge.csv',index = False)"
   ]
  },
  {
   "cell_type": "code",
   "execution_count": 47,
   "id": "f2b59716-d93f-41f7-908e-7093d3dcdbe3",
   "metadata": {},
   "outputs": [],
   "source": [
    "#ENDS"
   ]
  },
  {
   "cell_type": "code",
   "execution_count": 48,
   "id": "d82f9b75-73ce-4d58-823b-0f4c30716c61",
   "metadata": {},
   "outputs": [],
   "source": [
    "## merging of patients of hepatitis and hcc(hepa)\n",
    "#Starts"
   ]
  },
  {
   "cell_type": "code",
   "execution_count": 49,
   "id": "48ed4cca-093d-4141-8c54-21c1b8b47928",
   "metadata": {},
   "outputs": [],
   "source": [
    "csv_files = [('/home/zack83/Dropbox/Tripura_University/Project_Final/Databases/Partitioned_Datasets/Hepatitis/hepa_lived.csv'),('/home/zack83/Dropbox/Tripura_University/Project_Final/Databases/Partitioned_Datasets/Hcc_&_Hepatitis/hcc_hepa_lived.csv')]\n",
    "df_concat = pd.concat([pd.read_csv(f) for f in csv_files ], ignore_index=True) \n",
    "##hcc & hepta lived merge"
   ]
  },
  {
   "cell_type": "code",
   "execution_count": 50,
   "id": "9c633611-04c8-42b2-a449-b0767f231793",
   "metadata": {},
   "outputs": [
    {
     "name": "stdout",
     "output_type": "stream",
     "text": [
      "<class 'pandas.core.frame.DataFrame'>\n",
      "RangeIndex: 161 entries, 0 to 160\n",
      "Data columns (total 18 columns):\n",
      " #   Column             Non-Null Count  Dtype  \n",
      "---  ------             --------------  -----  \n",
      " 0   AGE                161 non-null    int64  \n",
      " 1   GENDER             161 non-null    int64  \n",
      " 2   ALBUMIN            161 non-null    float64\n",
      " 3   BILIRUBIN          161 non-null    float64\n",
      " 4   ALK_PHOSPHATE      161 non-null    float64\n",
      " 5   SGOT               161 non-null    float64\n",
      " 6   ASCITES            161 non-null    int64  \n",
      " 7   SPIDERS            123 non-null    float64\n",
      " 8   HEPATOMEGALY       123 non-null    float64\n",
      " 9   PROTINE            161 non-null    float64\n",
      " 10  MALAISE            123 non-null    float64\n",
      " 11  VARICES            161 non-null    int64  \n",
      " 12  STATUS             161 non-null    int64  \n",
      " 13  CLASS              123 non-null    float64\n",
      " 14  ALPHA-FETOPROTEIN  38 non-null     float64\n",
      " 15  FERRITIN           38 non-null     float64\n",
      " 16  HEMOGLOBIN         38 non-null     float64\n",
      " 17  PALTELETS          38 non-null     float64\n",
      "dtypes: float64(13), int64(5)\n",
      "memory usage: 22.8 KB\n"
     ]
    }
   ],
   "source": [
    "df_concat.info()"
   ]
  },
  {
   "cell_type": "code",
   "execution_count": 51,
   "id": "e5d3fa9d-9c67-4f1a-8da5-7173863a22d6",
   "metadata": {},
   "outputs": [],
   "source": [
    "df_concat.to_csv('/home/zack83/Dropbox/Tripura_University/Project_Final/Databases/Partitioned_Datasets/Hepatitis_&_Hcc(hepa)_merged/hcc_hepa_live_merge.csv',index = False)"
   ]
  },
  {
   "cell_type": "code",
   "execution_count": 52,
   "id": "e752b527-12fb-4bde-925c-4f173dd7f61b",
   "metadata": {},
   "outputs": [],
   "source": [
    "csv_files = [('/home/zack83/Dropbox/Tripura_University/Project_Final/Databases/Partitioned_Datasets/Hepatitis/hepa_died.csv'),('/home/zack83/Dropbox/Tripura_University/Project_Final/Databases/Partitioned_Datasets/Hcc_&_Hepatitis/hcc_hepa_died.csv')]\n",
    "df_concat = pd.concat([pd.read_csv(f) for f in csv_files ], ignore_index=True) \n",
    "##hcc & hepta died merge"
   ]
  },
  {
   "cell_type": "code",
   "execution_count": 53,
   "id": "fca9a1a2-f939-4c41-b179-0dd34103debe",
   "metadata": {},
   "outputs": [
    {
     "name": "stdout",
     "output_type": "stream",
     "text": [
      "<class 'pandas.core.frame.DataFrame'>\n",
      "RangeIndex: 67 entries, 0 to 66\n",
      "Data columns (total 18 columns):\n",
      " #   Column             Non-Null Count  Dtype  \n",
      "---  ------             --------------  -----  \n",
      " 0   AGE                67 non-null     int64  \n",
      " 1   GENDER             67 non-null     int64  \n",
      " 2   ALBUMIN            67 non-null     float64\n",
      " 3   BILIRUBIN          67 non-null     float64\n",
      " 4   ALK_PHOSPHATE      67 non-null     float64\n",
      " 5   SGOT               67 non-null     float64\n",
      " 6   ASCITES            67 non-null     int64  \n",
      " 7   SPIDERS            32 non-null     float64\n",
      " 8   HEPATOMEGALY       32 non-null     float64\n",
      " 9   PROTINE            67 non-null     float64\n",
      " 10  MALAISE            32 non-null     float64\n",
      " 11  VARICES            67 non-null     int64  \n",
      " 12  STATUS             67 non-null     int64  \n",
      " 13  CLASS              32 non-null     float64\n",
      " 14  ALPHA-FETOPROTEIN  35 non-null     float64\n",
      " 15  FERRITIN           35 non-null     float64\n",
      " 16  HEMOGLOBIN         35 non-null     float64\n",
      " 17  PALTELETS          35 non-null     float64\n",
      "dtypes: float64(13), int64(5)\n",
      "memory usage: 9.6 KB\n"
     ]
    }
   ],
   "source": [
    "df_concat.info()"
   ]
  },
  {
   "cell_type": "code",
   "execution_count": 54,
   "id": "6f10829e-d46c-4512-a80c-4ecf277d22b7",
   "metadata": {},
   "outputs": [],
   "source": [
    "df_concat.to_csv('/home/zack83/Dropbox/Tripura_University/Project_Final/Databases/Partitioned_Datasets/Hepatitis_&_Hcc(hepa)_merged/hcc_hepa_died_merge.csv',index = False)"
   ]
  },
  {
   "cell_type": "code",
   "execution_count": 55,
   "id": "f0081467-37bb-4377-b97b-be630d3f5e70",
   "metadata": {},
   "outputs": [],
   "source": [
    "##ENDS"
   ]
  },
  {
   "cell_type": "code",
   "execution_count": 56,
   "id": "76601bbc-6760-4b30-a8c0-5c4013b4344f",
   "metadata": {},
   "outputs": [],
   "source": [
    "##starting imputing "
   ]
  },
  {
   "cell_type": "code",
   "execution_count": 57,
   "id": "c090f572-bfe4-4089-97d8-29a418a9f60b",
   "metadata": {},
   "outputs": [],
   "source": [
    "## imputing cirrhosis data is our main objective all the data that will be imputed in hcc part will be ignored as it will \n",
    "##create double data "
   ]
  },
  {
   "cell_type": "code",
   "execution_count": 58,
   "id": "4a98bd70-b4f7-4f77-83c9-dfb1db947687",
   "metadata": {},
   "outputs": [],
   "source": [
    "df4 = pd.read_csv('/home/zack83/Dropbox/Tripura_University/Project_Final/Databases/Partitioned_Datasets/Cirhosis_&_Hcc(cirr)_merged/hcc_cirr_live_merge.csv')\n",
    "df5 = pd.read_csv('/home/zack83/Dropbox/Tripura_University/Project_Final/Databases/Partitioned_Datasets/Cirhosis_&_Hcc(cirr)_merged/hcc_cirr_died_merge.csv')\n",
    "df6 = pd.read_csv('/home/zack83/Dropbox/Tripura_University/Project_Final/Databases/Partitioned_Datasets/Hepatitis_&_Hcc(hepa)_merged/hcc_hepa_live_merge.csv')\n",
    "df7 = pd.read_csv('/home/zack83/Dropbox/Tripura_University/Project_Final/Databases/Partitioned_Datasets/Hepatitis_&_Hcc(hepa)_merged/hcc_hepa_died_merge.csv')"
   ]
  },
  {
   "cell_type": "code",
   "execution_count": 59,
   "id": "68079e3a-b33e-4326-b360-1920486622b4",
   "metadata": {},
   "outputs": [
    {
     "name": "stdout",
     "output_type": "stream",
     "text": [
      "<class 'pandas.core.frame.DataFrame'>\n",
      "RangeIndex: 350 entries, 0 to 349\n",
      "Data columns (total 18 columns):\n",
      " #   Column             Non-Null Count  Dtype  \n",
      "---  ------             --------------  -----  \n",
      " 0   AGE                350 non-null    int64  \n",
      " 1   GENDER             350 non-null    int64  \n",
      " 2   ALBUMIN            350 non-null    float64\n",
      " 3   BILIRUBIN          350 non-null    float64\n",
      " 4   ALK_PHOSPHATE      350 non-null    float64\n",
      " 5   SGOT               350 non-null    float64\n",
      " 6   ASCITES            350 non-null    int64  \n",
      " 7   SPIDERS            257 non-null    float64\n",
      " 8   PROTHROMBIN        257 non-null    float64\n",
      " 9   HEPATOMEGALY       257 non-null    float64\n",
      " 10  PALTELETS          350 non-null    float64\n",
      " 11  STATUS             350 non-null    int64  \n",
      " 12  CLASS              257 non-null    float64\n",
      " 13  ALPHA-FETOPROTEIN  93 non-null     float64\n",
      " 14  FERRITIN           93 non-null     float64\n",
      " 15  HEMOGLOBIN         93 non-null     float64\n",
      " 16  PROTINE            93 non-null     float64\n",
      " 17  VARICES            93 non-null     float64\n",
      "dtypes: float64(14), int64(4)\n",
      "memory usage: 49.3 KB\n",
      "\n",
      "\n",
      "<class 'pandas.core.frame.DataFrame'>\n",
      "RangeIndex: 251 entries, 0 to 250\n",
      "Data columns (total 18 columns):\n",
      " #   Column             Non-Null Count  Dtype  \n",
      "---  ------             --------------  -----  \n",
      " 0   AGE                251 non-null    int64  \n",
      " 1   GENDER             251 non-null    int64  \n",
      " 2   ALBUMIN            251 non-null    float64\n",
      " 3   BILIRUBIN          251 non-null    float64\n",
      " 4   ALK_PHOSPHATE      251 non-null    float64\n",
      " 5   SGOT               251 non-null    float64\n",
      " 6   ASCITES            251 non-null    int64  \n",
      " 7   SPIDERS            161 non-null    float64\n",
      " 8   PROTHROMBIN        161 non-null    float64\n",
      " 9   HEPATOMEGALY       161 non-null    float64\n",
      " 10  PALTELETS          251 non-null    float64\n",
      " 11  STATUS             251 non-null    int64  \n",
      " 12  CLASS              161 non-null    float64\n",
      " 13  ALPHA-FETOPROTEIN  90 non-null     float64\n",
      " 14  FERRITIN           90 non-null     float64\n",
      " 15  HEMOGLOBIN         90 non-null     float64\n",
      " 16  PROTINE            90 non-null     float64\n",
      " 17  VARICES            90 non-null     float64\n",
      "dtypes: float64(14), int64(4)\n",
      "memory usage: 35.4 KB\n",
      "\n",
      "\n",
      "<class 'pandas.core.frame.DataFrame'>\n",
      "RangeIndex: 161 entries, 0 to 160\n",
      "Data columns (total 18 columns):\n",
      " #   Column             Non-Null Count  Dtype  \n",
      "---  ------             --------------  -----  \n",
      " 0   AGE                161 non-null    int64  \n",
      " 1   GENDER             161 non-null    int64  \n",
      " 2   ALBUMIN            161 non-null    float64\n",
      " 3   BILIRUBIN          161 non-null    float64\n",
      " 4   ALK_PHOSPHATE      161 non-null    float64\n",
      " 5   SGOT               161 non-null    float64\n",
      " 6   ASCITES            161 non-null    int64  \n",
      " 7   SPIDERS            123 non-null    float64\n",
      " 8   HEPATOMEGALY       123 non-null    float64\n",
      " 9   PROTINE            161 non-null    float64\n",
      " 10  MALAISE            123 non-null    float64\n",
      " 11  VARICES            161 non-null    int64  \n",
      " 12  STATUS             161 non-null    int64  \n",
      " 13  CLASS              123 non-null    float64\n",
      " 14  ALPHA-FETOPROTEIN  38 non-null     float64\n",
      " 15  FERRITIN           38 non-null     float64\n",
      " 16  HEMOGLOBIN         38 non-null     float64\n",
      " 17  PALTELETS          38 non-null     float64\n",
      "dtypes: float64(13), int64(5)\n",
      "memory usage: 22.8 KB\n",
      "\n",
      "\n",
      "<class 'pandas.core.frame.DataFrame'>\n",
      "RangeIndex: 67 entries, 0 to 66\n",
      "Data columns (total 18 columns):\n",
      " #   Column             Non-Null Count  Dtype  \n",
      "---  ------             --------------  -----  \n",
      " 0   AGE                67 non-null     int64  \n",
      " 1   GENDER             67 non-null     int64  \n",
      " 2   ALBUMIN            67 non-null     float64\n",
      " 3   BILIRUBIN          67 non-null     float64\n",
      " 4   ALK_PHOSPHATE      67 non-null     float64\n",
      " 5   SGOT               67 non-null     float64\n",
      " 6   ASCITES            67 non-null     int64  \n",
      " 7   SPIDERS            32 non-null     float64\n",
      " 8   HEPATOMEGALY       32 non-null     float64\n",
      " 9   PROTINE            67 non-null     float64\n",
      " 10  MALAISE            32 non-null     float64\n",
      " 11  VARICES            67 non-null     int64  \n",
      " 12  STATUS             67 non-null     int64  \n",
      " 13  CLASS              32 non-null     float64\n",
      " 14  ALPHA-FETOPROTEIN  35 non-null     float64\n",
      " 15  FERRITIN           35 non-null     float64\n",
      " 16  HEMOGLOBIN         35 non-null     float64\n",
      " 17  PALTELETS          35 non-null     float64\n",
      "dtypes: float64(13), int64(5)\n",
      "memory usage: 9.6 KB\n"
     ]
    }
   ],
   "source": [
    "df4.info()\n",
    "print('\\n')\n",
    "df5.info()\n",
    "print('\\n')\n",
    "df6.info()\n",
    "print('\\n')\n",
    "df7.info()"
   ]
  },
  {
   "cell_type": "code",
   "execution_count": 60,
   "id": "93d02979-94ac-4f21-8177-a3436a9273d3",
   "metadata": {},
   "outputs": [
    {
     "data": {
      "text/plain": [
       "AGE                  0\n",
       "GENDER               0\n",
       "ALBUMIN              0\n",
       "BILIRUBIN            0\n",
       "ALK_PHOSPHATE        0\n",
       "SGOT                 0\n",
       "ASCITES              0\n",
       "SPIDERS              0\n",
       "PROTHROMBIN          0\n",
       "HEPATOMEGALY         0\n",
       "PALTELETS            0\n",
       "STATUS               0\n",
       "ALPHA-FETOPROTEIN    0\n",
       "FERRITIN             0\n",
       "HEMOGLOBIN           0\n",
       "PROTINE              0\n",
       "VARICES              0\n",
       "dtype: int64"
      ]
     },
     "execution_count": 60,
     "metadata": {},
     "output_type": "execute_result"
    }
   ],
   "source": [
    "df4['CLASS'] = df4['CLASS'].replace({1:'CR'}) ##turning into object to later identify differnce btwn hcc and Cirr as kepping \n",
    "#numerical also impute it for the whole dataset with 1\n",
    "df4.select_dtypes(include=(['int64', 'float64'])).isna().sum()\n",
    "df_num_col = df4.select_dtypes(include=(['int64', 'float64'])).columns\n",
    "for c in df_num_col:\n",
    "    df4[c].fillna(df4[c].median(), inplace=True)\n",
    "\n",
    "df4.select_dtypes(include=(['int64', 'float64'])).isna().sum()"
   ]
  },
  {
   "cell_type": "code",
   "execution_count": 61,
   "id": "09a9ab75-f4de-4425-9698-75637b79abea",
   "metadata": {},
   "outputs": [
    {
     "data": {
      "text/plain": [
       "AGE                  0\n",
       "GENDER               0\n",
       "ALBUMIN              0\n",
       "BILIRUBIN            0\n",
       "ALK_PHOSPHATE        0\n",
       "SGOT                 0\n",
       "ASCITES              0\n",
       "SPIDERS              0\n",
       "PROTHROMBIN          0\n",
       "HEPATOMEGALY         0\n",
       "PALTELETS            0\n",
       "STATUS               0\n",
       "ALPHA-FETOPROTEIN    0\n",
       "FERRITIN             0\n",
       "HEMOGLOBIN           0\n",
       "PROTINE              0\n",
       "VARICES              0\n",
       "dtype: int64"
      ]
     },
     "execution_count": 61,
     "metadata": {},
     "output_type": "execute_result"
    }
   ],
   "source": [
    "df5['CLASS'] = df5['CLASS'].replace({1:'CR'}) ##turning into object to later identify differnce btwn hcc and Cirr as kepping \n",
    "#numerical also impute it for the whole dataset with 1\n",
    "df5.select_dtypes(include=(['int64', 'float64'])).isna().sum()\n",
    "df_num_col = df5.select_dtypes(include=(['int64', 'float64'])).columns\n",
    "for c in df_num_col:\n",
    "    df5[c].fillna(df5[c].median(), inplace=True)\n",
    "\n",
    "df5.select_dtypes(include=(['int64', 'float64'])).isna().sum()"
   ]
  },
  {
   "cell_type": "code",
   "execution_count": 62,
   "id": "9401b7b3-8ca1-42de-ae0f-41f919b51d96",
   "metadata": {},
   "outputs": [
    {
     "data": {
      "text/plain": [
       "AGE                  0\n",
       "GENDER               0\n",
       "ALBUMIN              0\n",
       "BILIRUBIN            0\n",
       "ALK_PHOSPHATE        0\n",
       "SGOT                 0\n",
       "ASCITES              0\n",
       "SPIDERS              0\n",
       "HEPATOMEGALY         0\n",
       "PROTINE              0\n",
       "MALAISE              0\n",
       "VARICES              0\n",
       "STATUS               0\n",
       "ALPHA-FETOPROTEIN    0\n",
       "FERRITIN             0\n",
       "HEMOGLOBIN           0\n",
       "PALTELETS            0\n",
       "dtype: int64"
      ]
     },
     "execution_count": 62,
     "metadata": {},
     "output_type": "execute_result"
    }
   ],
   "source": [
    "df6['CLASS'] = df6['CLASS'].replace({2:'HP'}) ##turning into object to later identify differnce btwn hcc and Cirr as kepping \n",
    "#numerical also impute it for the whole dataset with 2\n",
    "df6.select_dtypes(include=(['int64', 'float64'])).isna().sum()\n",
    "df_num_col = df6.select_dtypes(include=(['int64', 'float64'])).columns\n",
    "for c in df_num_col:\n",
    "    df6[c].fillna(df6[c].median(), inplace=True)\n",
    "\n",
    "df6.select_dtypes(include=(['int64', 'float64'])).isna().sum()"
   ]
  },
  {
   "cell_type": "code",
   "execution_count": 63,
   "id": "9b8a145b-ea92-495e-beed-948aa1c4faf5",
   "metadata": {},
   "outputs": [
    {
     "data": {
      "text/plain": [
       "AGE                  0\n",
       "GENDER               0\n",
       "ALBUMIN              0\n",
       "BILIRUBIN            0\n",
       "ALK_PHOSPHATE        0\n",
       "SGOT                 0\n",
       "ASCITES              0\n",
       "SPIDERS              0\n",
       "HEPATOMEGALY         0\n",
       "PROTINE              0\n",
       "MALAISE              0\n",
       "VARICES              0\n",
       "STATUS               0\n",
       "ALPHA-FETOPROTEIN    0\n",
       "FERRITIN             0\n",
       "HEMOGLOBIN           0\n",
       "PALTELETS            0\n",
       "dtype: int64"
      ]
     },
     "execution_count": 63,
     "metadata": {},
     "output_type": "execute_result"
    }
   ],
   "source": [
    "df7['CLASS'] = df7['CLASS'].replace({2:'HP'}) ##turning into object to later identify differnce btwn hcc and Cirr as kepping \n",
    "#numerical also impute it for the whole dataset with 1\n",
    "df7.select_dtypes(include=(['int64', 'float64'])).isna().sum()\n",
    "df_num_col = df7.select_dtypes(include=(['int64', 'float64'])).columns\n",
    "for c in df_num_col:\n",
    "    df7[c].fillna(df7[c].median(), inplace=True)\n",
    "\n",
    "df7.select_dtypes(include=(['int64', 'float64'])).isna().sum()"
   ]
  },
  {
   "cell_type": "code",
   "execution_count": 64,
   "id": "7dc7295e-7cd5-47d1-967b-c77928ceb4a7",
   "metadata": {},
   "outputs": [
    {
     "name": "stdout",
     "output_type": "stream",
     "text": [
      "<class 'pandas.core.frame.DataFrame'>\n",
      "RangeIndex: 350 entries, 0 to 349\n",
      "Data columns (total 18 columns):\n",
      " #   Column             Non-Null Count  Dtype  \n",
      "---  ------             --------------  -----  \n",
      " 0   AGE                350 non-null    int64  \n",
      " 1   GENDER             350 non-null    int64  \n",
      " 2   ALBUMIN            350 non-null    float64\n",
      " 3   BILIRUBIN          350 non-null    float64\n",
      " 4   ALK_PHOSPHATE      350 non-null    float64\n",
      " 5   SGOT               350 non-null    float64\n",
      " 6   ASCITES            350 non-null    int64  \n",
      " 7   SPIDERS            350 non-null    float64\n",
      " 8   PROTHROMBIN        350 non-null    float64\n",
      " 9   HEPATOMEGALY       350 non-null    float64\n",
      " 10  PALTELETS          350 non-null    float64\n",
      " 11  STATUS             350 non-null    int64  \n",
      " 12  CLASS              257 non-null    object \n",
      " 13  ALPHA-FETOPROTEIN  350 non-null    float64\n",
      " 14  FERRITIN           350 non-null    float64\n",
      " 15  HEMOGLOBIN         350 non-null    float64\n",
      " 16  PROTINE            350 non-null    float64\n",
      " 17  VARICES            350 non-null    float64\n",
      "dtypes: float64(13), int64(4), object(1)\n",
      "memory usage: 49.3+ KB\n"
     ]
    }
   ],
   "source": [
    "df4.info()"
   ]
  },
  {
   "cell_type": "code",
   "execution_count": 65,
   "id": "349a1ba3-76e5-479b-b37b-26701a656000",
   "metadata": {},
   "outputs": [
    {
     "name": "stdout",
     "output_type": "stream",
     "text": [
      "<class 'pandas.core.frame.DataFrame'>\n",
      "RangeIndex: 161 entries, 0 to 160\n",
      "Data columns (total 18 columns):\n",
      " #   Column             Non-Null Count  Dtype  \n",
      "---  ------             --------------  -----  \n",
      " 0   AGE                161 non-null    int64  \n",
      " 1   GENDER             161 non-null    int64  \n",
      " 2   ALBUMIN            161 non-null    float64\n",
      " 3   BILIRUBIN          161 non-null    float64\n",
      " 4   ALK_PHOSPHATE      161 non-null    float64\n",
      " 5   SGOT               161 non-null    float64\n",
      " 6   ASCITES            161 non-null    int64  \n",
      " 7   SPIDERS            161 non-null    float64\n",
      " 8   HEPATOMEGALY       161 non-null    float64\n",
      " 9   PROTINE            161 non-null    float64\n",
      " 10  MALAISE            161 non-null    float64\n",
      " 11  VARICES            161 non-null    int64  \n",
      " 12  STATUS             161 non-null    int64  \n",
      " 13  CLASS              123 non-null    object \n",
      " 14  ALPHA-FETOPROTEIN  161 non-null    float64\n",
      " 15  FERRITIN           161 non-null    float64\n",
      " 16  HEMOGLOBIN         161 non-null    float64\n",
      " 17  PALTELETS          161 non-null    float64\n",
      "dtypes: float64(12), int64(5), object(1)\n",
      "memory usage: 22.8+ KB\n"
     ]
    }
   ],
   "source": [
    "df6.info()"
   ]
  },
  {
   "cell_type": "code",
   "execution_count": 66,
   "id": "766be337-472d-48d8-b681-e21597c127bc",
   "metadata": {},
   "outputs": [],
   "source": [
    "## Saving of Imputed Noisy Data"
   ]
  },
  {
   "cell_type": "code",
   "execution_count": 67,
   "id": "aabadefd-80f9-4568-b514-104ba52d07cd",
   "metadata": {},
   "outputs": [],
   "source": [
    "df4.to_csv('/home/zack83/Dropbox/Tripura_University/Project_Final/Databases/Partitioned_Datasets/Noisy_ALL/cirr_live_noisy.csv',index = False)"
   ]
  },
  {
   "cell_type": "code",
   "execution_count": 68,
   "id": "f535db55-102f-4a9a-8013-ffbb7bf3a554",
   "metadata": {},
   "outputs": [],
   "source": [
    "df5.to_csv('/home/zack83/Dropbox/Tripura_University/Project_Final/Databases/Partitioned_Datasets/Noisy_ALL/cirr_died_noisy.csv',index = False)"
   ]
  },
  {
   "cell_type": "code",
   "execution_count": 69,
   "id": "21bf0a89-c05d-44e1-9d9c-80f47c0b1fe9",
   "metadata": {},
   "outputs": [],
   "source": [
    "df6.to_csv('/home/zack83/Dropbox/Tripura_University/Project_Final/Databases/Partitioned_Datasets/Noisy_ALL/hepa_live_noisy.csv',index = False)"
   ]
  },
  {
   "cell_type": "code",
   "execution_count": 70,
   "id": "366d5958-d747-4bea-9de8-2611069c2155",
   "metadata": {},
   "outputs": [],
   "source": [
    "df7.to_csv('/home/zack83/Dropbox/Tripura_University/Project_Final/Databases/Partitioned_Datasets/Noisy_ALL/hepa_died_noisy.csv',index = False)"
   ]
  },
  {
   "cell_type": "code",
   "execution_count": 71,
   "id": "992ece90-72ee-4109-beb6-1e82049a1f87",
   "metadata": {},
   "outputs": [],
   "source": [
    "## seprating the newly imputed cirrosis and hepatitis datasets"
   ]
  },
  {
   "cell_type": "code",
   "execution_count": 72,
   "id": "efea9e64-b7ea-4c9d-8ead-cdf66bbbca32",
   "metadata": {},
   "outputs": [],
   "source": [
    "df8 = pd.read_csv('/home/zack83/Dropbox/Tripura_University/Project_Final/Databases/Partitioned_Datasets/Noisy_ALL/cirr_live_noisy.csv')\n",
    "df9 = pd.read_csv('/home/zack83/Dropbox/Tripura_University/Project_Final/Databases/Partitioned_Datasets/Noisy_ALL/cirr_died_noisy.csv')\n",
    "df10 = pd.read_csv('/home/zack83/Dropbox/Tripura_University/Project_Final/Databases/Partitioned_Datasets/Noisy_ALL/hepa_live_noisy.csv')\n",
    "df11 = pd.read_csv('/home/zack83/Dropbox/Tripura_University/Project_Final/Databases/Partitioned_Datasets/Noisy_ALL/hepa_died_noisy.csv')"
   ]
  },
  {
   "cell_type": "code",
   "execution_count": 73,
   "id": "5b8584ec-60fb-48f5-8d9d-87947a5a6d5f",
   "metadata": {},
   "outputs": [
    {
     "name": "stdout",
     "output_type": "stream",
     "text": [
      "<class 'pandas.core.frame.DataFrame'>\n",
      "RangeIndex: 350 entries, 0 to 349\n",
      "Data columns (total 18 columns):\n",
      " #   Column             Non-Null Count  Dtype  \n",
      "---  ------             --------------  -----  \n",
      " 0   AGE                350 non-null    int64  \n",
      " 1   GENDER             350 non-null    int64  \n",
      " 2   ALBUMIN            350 non-null    float64\n",
      " 3   BILIRUBIN          350 non-null    float64\n",
      " 4   ALK_PHOSPHATE      350 non-null    float64\n",
      " 5   SGOT               350 non-null    float64\n",
      " 6   ASCITES            350 non-null    int64  \n",
      " 7   SPIDERS            350 non-null    float64\n",
      " 8   PROTHROMBIN        350 non-null    float64\n",
      " 9   HEPATOMEGALY       350 non-null    float64\n",
      " 10  PALTELETS          350 non-null    float64\n",
      " 11  STATUS             350 non-null    int64  \n",
      " 12  CLASS              257 non-null    float64\n",
      " 13  ALPHA-FETOPROTEIN  350 non-null    float64\n",
      " 14  FERRITIN           350 non-null    float64\n",
      " 15  HEMOGLOBIN         350 non-null    float64\n",
      " 16  PROTINE            350 non-null    float64\n",
      " 17  VARICES            350 non-null    float64\n",
      "dtypes: float64(14), int64(4)\n",
      "memory usage: 49.3 KB\n",
      "\n",
      "\n",
      "<class 'pandas.core.frame.DataFrame'>\n",
      "RangeIndex: 251 entries, 0 to 250\n",
      "Data columns (total 18 columns):\n",
      " #   Column             Non-Null Count  Dtype  \n",
      "---  ------             --------------  -----  \n",
      " 0   AGE                251 non-null    int64  \n",
      " 1   GENDER             251 non-null    int64  \n",
      " 2   ALBUMIN            251 non-null    float64\n",
      " 3   BILIRUBIN          251 non-null    float64\n",
      " 4   ALK_PHOSPHATE      251 non-null    float64\n",
      " 5   SGOT               251 non-null    float64\n",
      " 6   ASCITES            251 non-null    int64  \n",
      " 7   SPIDERS            251 non-null    float64\n",
      " 8   PROTHROMBIN        251 non-null    float64\n",
      " 9   HEPATOMEGALY       251 non-null    float64\n",
      " 10  PALTELETS          251 non-null    float64\n",
      " 11  STATUS             251 non-null    int64  \n",
      " 12  CLASS              161 non-null    float64\n",
      " 13  ALPHA-FETOPROTEIN  251 non-null    float64\n",
      " 14  FERRITIN           251 non-null    float64\n",
      " 15  HEMOGLOBIN         251 non-null    float64\n",
      " 16  PROTINE            251 non-null    float64\n",
      " 17  VARICES            251 non-null    float64\n",
      "dtypes: float64(14), int64(4)\n",
      "memory usage: 35.4 KB\n",
      "\n",
      "\n",
      "<class 'pandas.core.frame.DataFrame'>\n",
      "RangeIndex: 161 entries, 0 to 160\n",
      "Data columns (total 18 columns):\n",
      " #   Column             Non-Null Count  Dtype  \n",
      "---  ------             --------------  -----  \n",
      " 0   AGE                161 non-null    int64  \n",
      " 1   GENDER             161 non-null    int64  \n",
      " 2   ALBUMIN            161 non-null    float64\n",
      " 3   BILIRUBIN          161 non-null    float64\n",
      " 4   ALK_PHOSPHATE      161 non-null    float64\n",
      " 5   SGOT               161 non-null    float64\n",
      " 6   ASCITES            161 non-null    int64  \n",
      " 7   SPIDERS            161 non-null    float64\n",
      " 8   HEPATOMEGALY       161 non-null    float64\n",
      " 9   PROTINE            161 non-null    float64\n",
      " 10  MALAISE            161 non-null    float64\n",
      " 11  VARICES            161 non-null    int64  \n",
      " 12  STATUS             161 non-null    int64  \n",
      " 13  CLASS              123 non-null    float64\n",
      " 14  ALPHA-FETOPROTEIN  161 non-null    float64\n",
      " 15  FERRITIN           161 non-null    float64\n",
      " 16  HEMOGLOBIN         161 non-null    float64\n",
      " 17  PALTELETS          161 non-null    float64\n",
      "dtypes: float64(13), int64(5)\n",
      "memory usage: 22.8 KB\n",
      "\n",
      "\n",
      "<class 'pandas.core.frame.DataFrame'>\n",
      "RangeIndex: 161 entries, 0 to 160\n",
      "Data columns (total 18 columns):\n",
      " #   Column             Non-Null Count  Dtype  \n",
      "---  ------             --------------  -----  \n",
      " 0   AGE                161 non-null    int64  \n",
      " 1   GENDER             161 non-null    int64  \n",
      " 2   ALBUMIN            161 non-null    float64\n",
      " 3   BILIRUBIN          161 non-null    float64\n",
      " 4   ALK_PHOSPHATE      161 non-null    float64\n",
      " 5   SGOT               161 non-null    float64\n",
      " 6   ASCITES            161 non-null    int64  \n",
      " 7   SPIDERS            161 non-null    float64\n",
      " 8   HEPATOMEGALY       161 non-null    float64\n",
      " 9   PROTINE            161 non-null    float64\n",
      " 10  MALAISE            161 non-null    float64\n",
      " 11  VARICES            161 non-null    int64  \n",
      " 12  STATUS             161 non-null    int64  \n",
      " 13  CLASS              123 non-null    float64\n",
      " 14  ALPHA-FETOPROTEIN  161 non-null    float64\n",
      " 15  FERRITIN           161 non-null    float64\n",
      " 16  HEMOGLOBIN         161 non-null    float64\n",
      " 17  PALTELETS          161 non-null    float64\n",
      "dtypes: float64(13), int64(5)\n",
      "memory usage: 22.8 KB\n"
     ]
    }
   ],
   "source": [
    "df8['CLASS'] = df8['CLASS'].replace({'CR':1})\n",
    "df9['CLASS'] = df9['CLASS'].replace({'CR':1})\n",
    "df10['CLASS'] = df10['CLASS'].replace({'HP':2})\n",
    "df11['CLASS'] = df11['CLASS'].replace({'HP':2})\n",
    "df8.info()\n",
    "print('\\n')\n",
    "df9.info()\n",
    "print('\\n')\n",
    "df10.info()\n",
    "print('\\n')\n",
    "df10.info()"
   ]
  },
  {
   "cell_type": "code",
   "execution_count": 74,
   "id": "7a1b4148-453d-4228-abd4-897b430869aa",
   "metadata": {},
   "outputs": [],
   "source": [
    "cirr0 = df8.loc[df8['CLASS'] == 1] ## cirrhosis lived\n",
    "cirr1 = df9.loc[df9['CLASS'] == 1] ## cirrhosis died\n",
    "hepa0 = df10.loc[df10['CLASS'] == 2] ## hepatitis lived\n",
    "hepa1 = df11.loc[df11['CLASS'] == 2] ## hepatitis lived"
   ]
  },
  {
   "cell_type": "code",
   "execution_count": 75,
   "id": "251091f5-a17b-4a29-98b5-5a8ad4ce80f1",
   "metadata": {},
   "outputs": [],
   "source": [
    "cirr0.to_csv('/home/zack83/Dropbox/Tripura_University/Project_Final/Databases/Partitioned_Datasets/Cleaned_Parts/cirr0.csv',index = False)\n",
    "cirr1.to_csv('/home/zack83/Dropbox/Tripura_University/Project_Final/Databases/Partitioned_Datasets/Cleaned_Parts/cirr1.csv',index = False)\n",
    "hepa0.to_csv('/home/zack83/Dropbox/Tripura_University/Project_Final/Databases/Partitioned_Datasets/Cleaned_Parts/hepa0.csv',index = False)\n",
    "hepa1.to_csv('/home/zack83/Dropbox/Tripura_University/Project_Final/Databases/Partitioned_Datasets/Cleaned_Parts/hepa1.csv',index = False)"
   ]
  }
 ],
 "metadata": {
  "kernelspec": {
   "display_name": "3.11",
   "language": "python",
   "name": "3.11"
  },
  "language_info": {
   "codemirror_mode": {
    "name": "ipython",
    "version": 3
   },
   "file_extension": ".py",
   "mimetype": "text/x-python",
   "name": "python",
   "nbconvert_exporter": "python",
   "pygments_lexer": "ipython3",
   "version": "3.11.6"
  }
 },
 "nbformat": 4,
 "nbformat_minor": 5
}
