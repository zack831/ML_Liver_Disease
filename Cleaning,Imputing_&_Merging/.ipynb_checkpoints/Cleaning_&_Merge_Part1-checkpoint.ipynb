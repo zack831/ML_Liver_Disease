{
 "cells": [
  {
   "cell_type": "code",
   "execution_count": 1,
   "id": "4593e70f-3ebc-42fb-943a-4e1ca87fd692",
   "metadata": {},
   "outputs": [],
   "source": [
    "import pandas as pd\n",
    "import numpy as np"
   ]
  },
  {
   "cell_type": "code",
   "execution_count": 2,
   "id": "84a2b205-2397-4c33-981d-3afc3ac5d0a1",
   "metadata": {},
   "outputs": [],
   "source": [
    "## Cleaning of DataBases like extracting only required features, renaming the colums as per a standerd\n",
    "## STARTS"
   ]
  },
  {
   "cell_type": "code",
   "execution_count": 3,
   "id": "268bd350-15d1-48d5-aeb9-590bef4ee49d",
   "metadata": {},
   "outputs": [],
   "source": [
    "df = pd.read_csv('/home/zack83/Dropbox/Tripura_University/Project_Final/Databases/Cleaned_Part1/Cirr_Test000.csv')\n",
    "df1 = pd.read_csv('/home/zack83/Dropbox/Tripura_University/Project_Final/Databases/Cleaned_Part1/hepaTest000.csv')\n",
    "df2 = pd.read_csv('/home/zack83/Dropbox/Tripura_University/Project_Final/Databases/Cleaned_Part1/HCCTest000.csv')"
   ]
  },
  {
   "cell_type": "code",
   "execution_count": 4,
   "id": "2bbe58ec-0a90-4d96-87b7-02da35c4a677",
   "metadata": {},
   "outputs": [],
   "source": [
    "# extracting only necessary faetures that are also found in other databases for merging\n",
    "# Including the stage in commented line uncomment if nedded in future\n",
    "# feature_extracted = ['Age','Sex','Albumin','Bilirubin','Alk_Phos','SGOT','Ascites','Spiders','Prothrombin','Hepatomegaly','Platelets','Status','Stage']\n",
    "feature_extracted = ['Age','Sex','Albumin','Bilirubin','Alk_Phos','SGOT','Ascites','Spiders','Prothrombin','Hepatomegaly','Platelets','Status']"
   ]
  },
  {
   "cell_type": "code",
   "execution_count": 5,
   "id": "63af4bef-5c76-46ab-8dea-0e39e2f1a5a2",
   "metadata": {},
   "outputs": [
    {
     "name": "stdout",
     "output_type": "stream",
     "text": [
      "['Age', 'Sex', 'Albumin', 'Bilirubin', 'Alk_Phos', 'SGOT', 'Ascites', 'Spiders', 'Prothrombin', 'Hepatomegaly', 'Platelets', 'Status']\n"
     ]
    }
   ],
   "source": [
    "print(feature_extracted)"
   ]
  },
  {
   "cell_type": "code",
   "execution_count": 6,
   "id": "4c04c038-8881-4383-9fa5-b05a5bde9d6f",
   "metadata": {},
   "outputs": [],
   "source": [
    "df = df[feature_extracted]"
   ]
  },
  {
   "cell_type": "code",
   "execution_count": 7,
   "id": "f5aaf7b6-f576-4c43-9f71-fd94b657d348",
   "metadata": {},
   "outputs": [
    {
     "name": "stdout",
     "output_type": "stream",
     "text": [
      "<class 'pandas.core.frame.DataFrame'>\n",
      "RangeIndex: 418 entries, 0 to 417\n",
      "Data columns (total 12 columns):\n",
      " #   Column        Non-Null Count  Dtype  \n",
      "---  ------        --------------  -----  \n",
      " 0   Age           418 non-null    int64  \n",
      " 1   Sex           418 non-null    int64  \n",
      " 2   Albumin       418 non-null    float64\n",
      " 3   Bilirubin     418 non-null    float64\n",
      " 4   Alk_Phos      418 non-null    float64\n",
      " 5   SGOT          418 non-null    float64\n",
      " 6   Ascites       418 non-null    int64  \n",
      " 7   Spiders       418 non-null    int64  \n",
      " 8   Prothrombin   418 non-null    float64\n",
      " 9   Hepatomegaly  418 non-null    int64  \n",
      " 10  Platelets     418 non-null    float64\n",
      " 11  Status        418 non-null    int64  \n",
      "dtypes: float64(6), int64(6)\n",
      "memory usage: 39.3 KB\n"
     ]
    }
   ],
   "source": [
    "df.info()"
   ]
  },
  {
   "cell_type": "code",
   "execution_count": 8,
   "id": "c96cdb0b-96fd-420b-815f-9abb5d59a1f5",
   "metadata": {},
   "outputs": [],
   "source": [
    "df.rename(columns = {'Age':'AGE','Sex':'GENDER','Albumin':'ALBUMIN','Bilirubin':'BILIRUBIN','Alk_Phos':'ALK_PHOSPHATE','SGOT':'SGOT','Ascites':'ASCITES','Spiders':'SPIDERS','Prothrombin':'PROTHROMBIN','Hepatomegaly':'HEPATOMEGALY','Platelets':'PALTELETS','Status':'STATUS'}, inplace = True)"
   ]
  },
  {
   "cell_type": "code",
   "execution_count": 9,
   "id": "66d7a1c4-c419-4fd5-9a62-452b39ecc8f0",
   "metadata": {},
   "outputs": [
    {
     "name": "stdout",
     "output_type": "stream",
     "text": [
      "<class 'pandas.core.frame.DataFrame'>\n",
      "RangeIndex: 418 entries, 0 to 417\n",
      "Data columns (total 12 columns):\n",
      " #   Column         Non-Null Count  Dtype  \n",
      "---  ------         --------------  -----  \n",
      " 0   AGE            418 non-null    int64  \n",
      " 1   GENDER         418 non-null    int64  \n",
      " 2   ALBUMIN        418 non-null    float64\n",
      " 3   BILIRUBIN      418 non-null    float64\n",
      " 4   ALK_PHOSPHATE  418 non-null    float64\n",
      " 5   SGOT           418 non-null    float64\n",
      " 6   ASCITES        418 non-null    int64  \n",
      " 7   SPIDERS        418 non-null    int64  \n",
      " 8   PROTHROMBIN    418 non-null    float64\n",
      " 9   HEPATOMEGALY   418 non-null    int64  \n",
      " 10  PALTELETS      418 non-null    float64\n",
      " 11  STATUS         418 non-null    int64  \n",
      "dtypes: float64(6), int64(6)\n",
      "memory usage: 39.3 KB\n"
     ]
    }
   ],
   "source": [
    "df.info()"
   ]
  },
  {
   "cell_type": "code",
   "execution_count": 10,
   "id": "3460cedf-cbfc-4000-91a7-e73850e2b57c",
   "metadata": {},
   "outputs": [
    {
     "name": "stdout",
     "output_type": "stream",
     "text": [
      "<class 'pandas.core.frame.DataFrame'>\n",
      "RangeIndex: 418 entries, 0 to 417\n",
      "Data columns (total 13 columns):\n",
      " #   Column         Non-Null Count  Dtype  \n",
      "---  ------         --------------  -----  \n",
      " 0   AGE            418 non-null    int64  \n",
      " 1   GENDER         418 non-null    int64  \n",
      " 2   ALBUMIN        418 non-null    float64\n",
      " 3   BILIRUBIN      418 non-null    float64\n",
      " 4   ALK_PHOSPHATE  418 non-null    float64\n",
      " 5   SGOT           418 non-null    float64\n",
      " 6   ASCITES        418 non-null    int64  \n",
      " 7   SPIDERS        418 non-null    int64  \n",
      " 8   PROTHROMBIN    418 non-null    float64\n",
      " 9   HEPATOMEGALY   418 non-null    int64  \n",
      " 10  PALTELETS      418 non-null    float64\n",
      " 11  STATUS         418 non-null    int64  \n",
      " 12  CLASS          418 non-null    int64  \n",
      "dtypes: float64(6), int64(7)\n",
      "memory usage: 42.6 KB\n"
     ]
    }
   ],
   "source": [
    "#Adding an extra attribute class for classification in future\n",
    "df['CLASS'] = 1\n",
    "df.info()"
   ]
  },
  {
   "cell_type": "code",
   "execution_count": 11,
   "id": "eebc77a5-75e8-4c92-8a9b-bd818bb4a2bf",
   "metadata": {},
   "outputs": [],
   "source": [
    "df.to_csv('Databases/Cleaned_Part2/cirrF.csv',index = False)"
   ]
  },
  {
   "cell_type": "code",
   "execution_count": 12,
   "id": "2fbd178d-91c1-4bee-a204-6ad86667d68b",
   "metadata": {},
   "outputs": [
    {
     "name": "stdout",
     "output_type": "stream",
     "text": [
      "<class 'pandas.core.frame.DataFrame'>\n",
      "RangeIndex: 155 entries, 0 to 154\n",
      "Data columns (total 20 columns):\n",
      " #   Column           Non-Null Count  Dtype  \n",
      "---  ------           --------------  -----  \n",
      " 0   age              155 non-null    int64  \n",
      " 1   sex              155 non-null    int64  \n",
      " 2   steroid          155 non-null    int64  \n",
      " 3   antivirals       155 non-null    int64  \n",
      " 4   fatigue          155 non-null    int64  \n",
      " 5   malaise          155 non-null    int64  \n",
      " 6   anorexia         155 non-null    int64  \n",
      " 7   liver_big        155 non-null    int64  \n",
      " 8   liver_firm       155 non-null    int64  \n",
      " 9   spleen_palpable  155 non-null    int64  \n",
      " 10  spiders          155 non-null    int64  \n",
      " 11  ascites          155 non-null    int64  \n",
      " 12  varices          155 non-null    int64  \n",
      " 13  bilirubin        155 non-null    float64\n",
      " 14  alk_phosphate    155 non-null    float64\n",
      " 15  sgot             155 non-null    float64\n",
      " 16  albumin          155 non-null    float64\n",
      " 17  protime          155 non-null    float64\n",
      " 18  histology        155 non-null    int64  \n",
      " 19  class            155 non-null    int64  \n",
      "dtypes: float64(5), int64(15)\n",
      "memory usage: 24.3 KB\n"
     ]
    }
   ],
   "source": [
    "df1.info()"
   ]
  },
  {
   "cell_type": "code",
   "execution_count": 13,
   "id": "a8b39175-af32-48b8-b82f-f4c696151ec9",
   "metadata": {},
   "outputs": [],
   "source": [
    "# extracting only necessary faetures that are also found in other databases for merging\n",
    "feature_extracted1 = ['age','sex','albumin','bilirubin','alk_phosphate','sgot','ascites','spiders','liver_big','protime','malaise','varices','class']"
   ]
  },
  {
   "cell_type": "code",
   "execution_count": 14,
   "id": "805119f2-e584-47de-a82f-33b8e5c6fdfd",
   "metadata": {},
   "outputs": [],
   "source": [
    "df1 = df1[feature_extracted1]"
   ]
  },
  {
   "cell_type": "code",
   "execution_count": 15,
   "id": "49081785-a651-4e07-9858-b95f25e1fab9",
   "metadata": {},
   "outputs": [
    {
     "name": "stdout",
     "output_type": "stream",
     "text": [
      "<class 'pandas.core.frame.DataFrame'>\n",
      "RangeIndex: 155 entries, 0 to 154\n",
      "Data columns (total 13 columns):\n",
      " #   Column         Non-Null Count  Dtype  \n",
      "---  ------         --------------  -----  \n",
      " 0   age            155 non-null    int64  \n",
      " 1   sex            155 non-null    int64  \n",
      " 2   albumin        155 non-null    float64\n",
      " 3   bilirubin      155 non-null    float64\n",
      " 4   alk_phosphate  155 non-null    float64\n",
      " 5   sgot           155 non-null    float64\n",
      " 6   ascites        155 non-null    int64  \n",
      " 7   spiders        155 non-null    int64  \n",
      " 8   liver_big      155 non-null    int64  \n",
      " 9   protime        155 non-null    float64\n",
      " 10  malaise        155 non-null    int64  \n",
      " 11  varices        155 non-null    int64  \n",
      " 12  class          155 non-null    int64  \n",
      "dtypes: float64(5), int64(8)\n",
      "memory usage: 15.9 KB\n"
     ]
    }
   ],
   "source": [
    "df1.info()"
   ]
  },
  {
   "cell_type": "code",
   "execution_count": 16,
   "id": "f5c95abe-e62f-4ed1-bf37-366fc73bdd36",
   "metadata": {},
   "outputs": [],
   "source": [
    "df1.rename(columns = {'age':'AGE','sex':'GENDER','albumin':'ALBUMIN','bilirubin':'BILIRUBIN','alk_phosphate':'ALK_PHOSPHATE','sgot':'SGOT','ascites':'ASCITES','spiders':'SPIDERS','protime':'PROTINE','liver_big':'HEPATOMEGALY','malaise':'MALAISE','varices':'VARICES','class':'STATUS'}, inplace = True)"
   ]
  },
  {
   "cell_type": "code",
   "execution_count": 17,
   "id": "9dbf9b8b-321c-4f60-9f67-abb85e198e22",
   "metadata": {},
   "outputs": [
    {
     "name": "stdout",
     "output_type": "stream",
     "text": [
      "<class 'pandas.core.frame.DataFrame'>\n",
      "RangeIndex: 155 entries, 0 to 154\n",
      "Data columns (total 13 columns):\n",
      " #   Column         Non-Null Count  Dtype  \n",
      "---  ------         --------------  -----  \n",
      " 0   AGE            155 non-null    int64  \n",
      " 1   GENDER         155 non-null    int64  \n",
      " 2   ALBUMIN        155 non-null    float64\n",
      " 3   BILIRUBIN      155 non-null    float64\n",
      " 4   ALK_PHOSPHATE  155 non-null    float64\n",
      " 5   SGOT           155 non-null    float64\n",
      " 6   ASCITES        155 non-null    int64  \n",
      " 7   SPIDERS        155 non-null    int64  \n",
      " 8   HEPATOMEGALY   155 non-null    int64  \n",
      " 9   PROTINE        155 non-null    float64\n",
      " 10  MALAISE        155 non-null    int64  \n",
      " 11  VARICES        155 non-null    int64  \n",
      " 12  STATUS         155 non-null    int64  \n",
      "dtypes: float64(5), int64(8)\n",
      "memory usage: 15.9 KB\n"
     ]
    }
   ],
   "source": [
    "df1.info()"
   ]
  },
  {
   "cell_type": "code",
   "execution_count": 18,
   "id": "7ba6384e-544e-481f-97b2-5a6987b97956",
   "metadata": {},
   "outputs": [
    {
     "name": "stdout",
     "output_type": "stream",
     "text": [
      "<class 'pandas.core.frame.DataFrame'>\n",
      "RangeIndex: 155 entries, 0 to 154\n",
      "Data columns (total 14 columns):\n",
      " #   Column         Non-Null Count  Dtype  \n",
      "---  ------         --------------  -----  \n",
      " 0   AGE            155 non-null    int64  \n",
      " 1   GENDER         155 non-null    int64  \n",
      " 2   ALBUMIN        155 non-null    float64\n",
      " 3   BILIRUBIN      155 non-null    float64\n",
      " 4   ALK_PHOSPHATE  155 non-null    float64\n",
      " 5   SGOT           155 non-null    float64\n",
      " 6   ASCITES        155 non-null    int64  \n",
      " 7   SPIDERS        155 non-null    int64  \n",
      " 8   HEPATOMEGALY   155 non-null    int64  \n",
      " 9   PROTINE        155 non-null    float64\n",
      " 10  MALAISE        155 non-null    int64  \n",
      " 11  VARICES        155 non-null    int64  \n",
      " 12  STATUS         155 non-null    int64  \n",
      " 13  CLASS          155 non-null    int64  \n",
      "dtypes: float64(5), int64(9)\n",
      "memory usage: 17.1 KB\n"
     ]
    }
   ],
   "source": [
    "#Adding an extra attribute class for classification in future\n",
    "df1['CLASS'] = 2\n",
    "df1.info()"
   ]
  },
  {
   "cell_type": "code",
   "execution_count": 19,
   "id": "874b7252-2e85-4c1e-91db-533bee36c176",
   "metadata": {},
   "outputs": [],
   "source": [
    "df1.to_csv('Databases/Cleaned_Part2/hepatF.csv',index = False)"
   ]
  },
  {
   "cell_type": "code",
   "execution_count": 20,
   "id": "af5a6878-95ea-40cc-93d8-337a269444b5",
   "metadata": {},
   "outputs": [
    {
     "name": "stdout",
     "output_type": "stream",
     "text": [
      "<class 'pandas.core.frame.DataFrame'>\n",
      "RangeIndex: 204 entries, 0 to 203\n",
      "Data columns (total 50 columns):\n",
      " #   Column          Non-Null Count  Dtype  \n",
      "---  ------          --------------  -----  \n",
      " 0   Gender          204 non-null    int64  \n",
      " 1   Symptoms        204 non-null    int64  \n",
      " 2   Alcohol         204 non-null    int64  \n",
      " 3   HBsAg           204 non-null    int64  \n",
      " 4   HBeAg           204 non-null    int64  \n",
      " 5   HBcAb           204 non-null    int64  \n",
      " 6   HCVAb           204 non-null    int64  \n",
      " 7   Cirrhosis       204 non-null    int64  \n",
      " 8   Endemic         204 non-null    int64  \n",
      " 9   Smoking         204 non-null    int64  \n",
      " 10  Diabetes        204 non-null    int64  \n",
      " 11  Obesity         204 non-null    int64  \n",
      " 12  Hemochro        204 non-null    int64  \n",
      " 13  AHT             204 non-null    int64  \n",
      " 14  CRI             204 non-null    int64  \n",
      " 15  HIV             204 non-null    int64  \n",
      " 16  NASH            204 non-null    int64  \n",
      " 17  Varices         204 non-null    int64  \n",
      " 18  Spleno          204 non-null    int64  \n",
      " 19  PHT             204 non-null    int64  \n",
      " 20  PVT             204 non-null    int64  \n",
      " 21  Metastasis      204 non-null    int64  \n",
      " 22  Hallmark        204 non-null    int64  \n",
      " 23  Age             204 non-null    int64  \n",
      " 24  Grams_day       204 non-null    int64  \n",
      " 25  Packs_year      204 non-null    float64\n",
      " 26  PS              204 non-null    int64  \n",
      " 27  Encephalopathy  204 non-null    int64  \n",
      " 28  Ascites         204 non-null    int64  \n",
      " 29  INR             204 non-null    float64\n",
      " 30  AFP             204 non-null    float64\n",
      " 31  Hemoglobin      204 non-null    float64\n",
      " 32  MCV             204 non-null    float64\n",
      " 33  Leucocytes      204 non-null    float64\n",
      " 34  Platelets       204 non-null    float64\n",
      " 35  Albumin         204 non-null    float64\n",
      " 36  Total_Bil       204 non-null    float64\n",
      " 37  ALT             204 non-null    int64  \n",
      " 38  AST             204 non-null    int64  \n",
      " 39  GGT             204 non-null    int64  \n",
      " 40  ALP             204 non-null    int64  \n",
      " 41  TP              204 non-null    float64\n",
      " 42  Creatinine      204 non-null    float64\n",
      " 43  Nodule          204 non-null    int64  \n",
      " 44  Major_Dim       204 non-null    float64\n",
      " 45  Dir_Bil         204 non-null    float64\n",
      " 46  Iron            204 non-null    float64\n",
      " 47  Sat             204 non-null    float64\n",
      " 48  Ferritin        204 non-null    float64\n",
      " 49  Class           204 non-null    int64  \n",
      "dtypes: float64(16), int64(34)\n",
      "memory usage: 79.8 KB\n"
     ]
    }
   ],
   "source": [
    "df2.info()"
   ]
  },
  {
   "cell_type": "code",
   "execution_count": 21,
   "id": "297e0e4c-9454-4b5a-91b5-eb5b8f8af405",
   "metadata": {},
   "outputs": [],
   "source": [
    "# extracting only necessary faetures that are also found in other databases for merging\n",
    "feature_extracted2 = ['Age','Gender','Albumin','Dir_Bil','ALP','AST','Ascites','AFP','Ferritin','Hemoglobin','Platelets','Class','TP','Varices']"
   ]
  },
  {
   "cell_type": "code",
   "execution_count": 22,
   "id": "5e9cdd1b-2d63-4a89-9386-c6f08fa75e46",
   "metadata": {},
   "outputs": [],
   "source": [
    "df2 = df2[feature_extracted2]"
   ]
  },
  {
   "cell_type": "code",
   "execution_count": 23,
   "id": "0fdb9104-6131-493e-a4f3-098a14e825f9",
   "metadata": {},
   "outputs": [
    {
     "name": "stdout",
     "output_type": "stream",
     "text": [
      "<class 'pandas.core.frame.DataFrame'>\n",
      "RangeIndex: 204 entries, 0 to 203\n",
      "Data columns (total 14 columns):\n",
      " #   Column      Non-Null Count  Dtype  \n",
      "---  ------      --------------  -----  \n",
      " 0   Age         204 non-null    int64  \n",
      " 1   Gender      204 non-null    int64  \n",
      " 2   Albumin     204 non-null    float64\n",
      " 3   Dir_Bil     204 non-null    float64\n",
      " 4   ALP         204 non-null    int64  \n",
      " 5   AST         204 non-null    int64  \n",
      " 6   Ascites     204 non-null    int64  \n",
      " 7   AFP         204 non-null    float64\n",
      " 8   Ferritin    204 non-null    float64\n",
      " 9   Hemoglobin  204 non-null    float64\n",
      " 10  Platelets   204 non-null    float64\n",
      " 11  Class       204 non-null    int64  \n",
      " 12  TP          204 non-null    float64\n",
      " 13  Varices     204 non-null    int64  \n",
      "dtypes: float64(7), int64(7)\n",
      "memory usage: 22.4 KB\n"
     ]
    }
   ],
   "source": [
    "df2.info()"
   ]
  },
  {
   "cell_type": "code",
   "execution_count": 24,
   "id": "3f9ca885-6e1d-4a9a-8dd0-e2c5689d7fca",
   "metadata": {},
   "outputs": [],
   "source": [
    "df2.rename(columns = {'Age':'AGE','Gender':'GENDER','Albumin':'ALBUMIN','Dir_Bil':'BILIRUBIN','ALP':'ALK_PHOSPHATE','AST':'SGOT','Ascites':'ASCITES','AFP':'ALPHA-FETOPROTEIN','Ferritin':'FERRITIN','Hemoglobin':'HEMOGLOBIN','Platelets':'PALTELETS','TP':'PROTINE','Varices':'VARICES','Class':'STATUS'}, inplace = True)"
   ]
  },
  {
   "cell_type": "code",
   "execution_count": 25,
   "id": "206ea1f0-bc72-437c-be4e-5b231da82b06",
   "metadata": {},
   "outputs": [
    {
     "name": "stdout",
     "output_type": "stream",
     "text": [
      "<class 'pandas.core.frame.DataFrame'>\n",
      "RangeIndex: 204 entries, 0 to 203\n",
      "Data columns (total 14 columns):\n",
      " #   Column             Non-Null Count  Dtype  \n",
      "---  ------             --------------  -----  \n",
      " 0   AGE                204 non-null    int64  \n",
      " 1   GENDER             204 non-null    int64  \n",
      " 2   ALBUMIN            204 non-null    float64\n",
      " 3   BILIRUBIN          204 non-null    float64\n",
      " 4   ALK_PHOSPHATE      204 non-null    int64  \n",
      " 5   SGOT               204 non-null    int64  \n",
      " 6   ASCITES            204 non-null    int64  \n",
      " 7   ALPHA-FETOPROTEIN  204 non-null    float64\n",
      " 8   FERRITIN           204 non-null    float64\n",
      " 9   HEMOGLOBIN         204 non-null    float64\n",
      " 10  PALTELETS          204 non-null    float64\n",
      " 11  STATUS             204 non-null    int64  \n",
      " 12  PROTINE            204 non-null    float64\n",
      " 13  VARICES            204 non-null    int64  \n",
      "dtypes: float64(7), int64(7)\n",
      "memory usage: 22.4 KB\n"
     ]
    }
   ],
   "source": [
    "df2.info()"
   ]
  },
  {
   "cell_type": "code",
   "execution_count": 26,
   "id": "f8cd036a-a497-4702-8d47-53fac3b58007",
   "metadata": {},
   "outputs": [
    {
     "name": "stdout",
     "output_type": "stream",
     "text": [
      "<class 'pandas.core.frame.DataFrame'>\n",
      "RangeIndex: 204 entries, 0 to 203\n",
      "Data columns (total 15 columns):\n",
      " #   Column             Non-Null Count  Dtype  \n",
      "---  ------             --------------  -----  \n",
      " 0   AGE                204 non-null    int64  \n",
      " 1   GENDER             204 non-null    int64  \n",
      " 2   ALBUMIN            204 non-null    float64\n",
      " 3   BILIRUBIN          204 non-null    float64\n",
      " 4   ALK_PHOSPHATE      204 non-null    int64  \n",
      " 5   SGOT               204 non-null    int64  \n",
      " 6   ASCITES            204 non-null    int64  \n",
      " 7   ALPHA-FETOPROTEIN  204 non-null    float64\n",
      " 8   FERRITIN           204 non-null    float64\n",
      " 9   HEMOGLOBIN         204 non-null    float64\n",
      " 10  PALTELETS          204 non-null    float64\n",
      " 11  STATUS             204 non-null    int64  \n",
      " 12  PROTINE            204 non-null    float64\n",
      " 13  VARICES            204 non-null    int64  \n",
      " 14  CLASS              204 non-null    int64  \n",
      "dtypes: float64(7), int64(8)\n",
      "memory usage: 24.0 KB\n"
     ]
    }
   ],
   "source": [
    "#Adding an extra attribute class for classification in future\n",
    "df2['CLASS'] = 3\n",
    "df2.info()"
   ]
  },
  {
   "cell_type": "code",
   "execution_count": 27,
   "id": "d3a3f411-90d8-45fb-ae0a-982508e5cfca",
   "metadata": {},
   "outputs": [],
   "source": [
    "df2.to_csv('Databases/Cleaned_Part2/hccF.csv',index = False)"
   ]
  },
  {
   "cell_type": "code",
   "execution_count": 28,
   "id": "6698557f-0b62-4c15-8256-db3a6903cfec",
   "metadata": {},
   "outputs": [],
   "source": [
    "##ENDS"
   ]
  },
  {
   "cell_type": "code",
   "execution_count": 29,
   "id": "95344bcc-dfef-4884-97a8-fe435b17e190",
   "metadata": {},
   "outputs": [],
   "source": [
    "##Merging STARTS"
   ]
  },
  {
   "cell_type": "code",
   "execution_count": 30,
   "id": "84b11dea-02f0-4a70-b462-25782eaa7258",
   "metadata": {},
   "outputs": [],
   "source": [
    "csv_files = [('/home/zack83/Dropbox/Tripura_University/Project_Final/Databases/cirrF.csv'),('/home/zack83/Dropbox/Tripura_University/Project_Final/Databases/hepatF.csv'),('/home/zack83/Dropbox/Tripura_University/Project_Final/Databases/hccF.csv')]\n",
    "df_concat = pd.concat([pd.read_csv(f) for f in csv_files ], ignore_index=True)"
   ]
  },
  {
   "cell_type": "code",
   "execution_count": 31,
   "id": "d49f14ed-0ac2-4cf1-9d06-a95d74cbb566",
   "metadata": {},
   "outputs": [
    {
     "name": "stdout",
     "output_type": "stream",
     "text": [
      "<class 'pandas.core.frame.DataFrame'>\n",
      "RangeIndex: 777 entries, 0 to 776\n",
      "Data columns (total 19 columns):\n",
      " #   Column             Non-Null Count  Dtype  \n",
      "---  ------             --------------  -----  \n",
      " 0   AGE                777 non-null    int64  \n",
      " 1   GENDER             777 non-null    int64  \n",
      " 2   ALBUMIN            777 non-null    float64\n",
      " 3   BILIRUBIN          777 non-null    float64\n",
      " 4   ALK_PHOSPHATE      777 non-null    float64\n",
      " 5   SGOT               777 non-null    float64\n",
      " 6   ASCITES            777 non-null    int64  \n",
      " 7   SPIDERS            573 non-null    float64\n",
      " 8   PROTHROMBIN        418 non-null    float64\n",
      " 9   HEPATOMEGALY       573 non-null    float64\n",
      " 10  PALTELETS          622 non-null    float64\n",
      " 11  STATUS             777 non-null    int64  \n",
      " 12  CLASS              777 non-null    int64  \n",
      " 13  PROTINE            359 non-null    float64\n",
      " 14  MALAISE            155 non-null    float64\n",
      " 15  VARICES            359 non-null    float64\n",
      " 16  ALPHA-FETOPROTEIN  204 non-null    float64\n",
      " 17  FERRITIN           204 non-null    float64\n",
      " 18  HEMOGLOBIN         204 non-null    float64\n",
      "dtypes: float64(14), int64(5)\n",
      "memory usage: 115.5 KB\n"
     ]
    }
   ],
   "source": [
    "df_concat.info()"
   ]
  },
  {
   "cell_type": "code",
   "execution_count": 32,
   "id": "931dd9d6-61f9-459d-9c54-869d7e037e9e",
   "metadata": {},
   "outputs": [],
   "source": [
    "df_concat.to_csv(\"Databases/Merged_Part1/Merged_Part1.csv\",index = False)"
   ]
  }
 ],
 "metadata": {
  "kernelspec": {
   "display_name": "Python 3 (ipykernel)",
   "language": "python",
   "name": "python3"
  },
  "language_info": {
   "codemirror_mode": {
    "name": "ipython",
    "version": 3
   },
   "file_extension": ".py",
   "mimetype": "text/x-python",
   "name": "python",
   "nbconvert_exporter": "python",
   "pygments_lexer": "ipython3",
   "version": "3.12.0"
  }
 },
 "nbformat": 4,
 "nbformat_minor": 5
}
